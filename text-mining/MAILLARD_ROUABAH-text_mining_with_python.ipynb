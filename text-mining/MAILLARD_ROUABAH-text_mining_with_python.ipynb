{
  "nbformat": 4,
  "nbformat_minor": 0,
  "metadata": {
    "colab": {
      "provenance": [],
      "collapsed_sections": [
        "LdT39wd1pJEa"
      ]
    },
    "kernelspec": {
      "name": "python3",
      "display_name": "Python 3"
    },
    "language_info": {
      "name": "python"
    }
  },
  "cells": [
    {
      "cell_type": "markdown",
      "source": [
        "# Practical Session - Text Mining - Python\n",
        "October 2023\n",
        "\n",
        "\n"
      ],
      "metadata": {
        "id": "28z8FRhpmhBn"
      }
    },
    {
      "cell_type": "markdown",
      "source": [
        "## Team members\n",
        "\n",
        "- Mohammed ROUABAH\n",
        "- William MAILLARD"
      ],
      "metadata": {
        "id": "M-r1dY4vN4_r"
      }
    },
    {
      "cell_type": "markdown",
      "source": [
        "## utilities function\n",
        "\n",
        "This section defines some usefull functions used throughout this notebook."
      ],
      "metadata": {
        "id": "LdT39wd1pJEa"
      }
    },
    {
      "cell_type": "code",
      "source": [
        "# _. Progress bar\n",
        "from tqdm import tqdm"
      ],
      "metadata": {
        "id": "gatdWaZkt8xC"
      },
      "execution_count": 1,
      "outputs": []
    },
    {
      "cell_type": "code",
      "source": [
        "from datetime import timedelta\n",
        "\n",
        "def convert_time_from_ns_to_s(t: float) -> float:\n",
        "    \"\"\"\n",
        "    Convert time from nanoseconds to seconds\n",
        "\n",
        "    Parameters:\n",
        "    -----------\n",
        "    t: float\n",
        "        time in nanoseconds\n",
        "\n",
        "    Returns:\n",
        "    --------\n",
        "    t: float\n",
        "        time in seconds\n",
        "    \"\"\"\n",
        "    return t / 1e9\n",
        "\n",
        "def convert_time_from_ns_to_ms(t: float) -> float:\n",
        "    \"\"\"\n",
        "        Convert time from nanoseconds to milliseconds\n",
        "\n",
        "        Parameters:\n",
        "        -----------\n",
        "            t: float\n",
        "                time in nanaseconds\n",
        "\n",
        "        Returns:\n",
        "        --------\n",
        "            t: float\n",
        "                time in milliseconds\n",
        "    \"\"\"\n",
        "    return t * 1e-3\n",
        "\n",
        "\n",
        "def print_time(t: float) -> None:\n",
        "    \"\"\"\n",
        "        Print the time in the following format:\n",
        "        HH:MM:SS\n",
        "\n",
        "        Parameters:\n",
        "        -----------\n",
        "            t: float\n",
        "                time in nanaseconds\n",
        "    \"\"\"\n",
        "    t_in_ms = convert_time_from_ns_to_ms(t)\n",
        "    print(\"time (HH:MM:SS) \", end=\"\")\n",
        "    print(timedelta(microseconds=t_in_ms, ))\n",
        "\n"
      ],
      "metadata": {
        "id": "Flrf-gj4yXnO"
      },
      "execution_count": 2,
      "outputs": []
    },
    {
      "cell_type": "markdown",
      "source": [
        "## 3 Download the corpus\n",
        "\n",
        "This section simply import and download the reuters data from nltk library."
      ],
      "metadata": {
        "id": "31aNx7CYoxjl"
      }
    },
    {
      "cell_type": "code",
      "source": [
        "import nltk\n",
        "from nltk.corpus import reuters"
      ],
      "metadata": {
        "id": "vaYeOiG3pF9i"
      },
      "execution_count": 3,
      "outputs": []
    },
    {
      "cell_type": "code",
      "source": [
        " nltk.download('reuters')"
      ],
      "metadata": {
        "colab": {
          "base_uri": "https://localhost:8080/"
        },
        "id": "YUC2-mf_qXlL",
        "outputId": "424afb18-4ef3-4e35-a7e6-6ff2acc72076"
      },
      "execution_count": 4,
      "outputs": [
        {
          "output_type": "stream",
          "name": "stderr",
          "text": [
            "[nltk_data] Downloading package reuters to /root/nltk_data...\n"
          ]
        },
        {
          "output_type": "execute_result",
          "data": {
            "text/plain": [
              "True"
            ]
          },
          "metadata": {},
          "execution_count": 4
        }
      ]
    },
    {
      "cell_type": "markdown",
      "source": [
        "## 4. Exploring the data\n",
        "\n",
        "Now Reuters is downloaded, you can import the corpus as you would import a package.\n",
        "\n",
        "- Access the ids of the documents with reuters.fileids()\n",
        "- Access the text of documents with reuters.raw(documentid)\n",
        "- Documents are split between train and test. We will only use documents from train.  \n",
        "\n",
        "Print the text of the first document of the train set."
      ],
      "metadata": {
        "id": "Xe1lU90HrIyM"
      }
    },
    {
      "cell_type": "code",
      "source": [
        "ids = reuters.fileids()\n",
        "print(ids[:10])\n",
        "print(ids[-10:])"
      ],
      "metadata": {
        "colab": {
          "base_uri": "https://localhost:8080/"
        },
        "id": "h4nRpJ7vrZRe",
        "outputId": "2e6b4095-bcd4-4bba-8b12-1b79f846c453"
      },
      "execution_count": 5,
      "outputs": [
        {
          "output_type": "stream",
          "name": "stdout",
          "text": [
            "['test/14826', 'test/14828', 'test/14829', 'test/14832', 'test/14833', 'test/14839', 'test/14840', 'test/14841', 'test/14842', 'test/14843']\n",
            "['training/9982', 'training/9984', 'training/9985', 'training/9988', 'training/9989', 'training/999', 'training/9992', 'training/9993', 'training/9994', 'training/9995']\n"
          ]
        }
      ]
    },
    {
      "cell_type": "code",
      "source": [
        "raw_doc = reuters.raw(ids[0])\n",
        "print(raw_doc)"
      ],
      "metadata": {
        "colab": {
          "base_uri": "https://localhost:8080/"
        },
        "id": "fCLZCPjfsuCb",
        "outputId": "2873d322-3838-4b99-987c-cbfddd56c7f4"
      },
      "execution_count": 6,
      "outputs": [
        {
          "output_type": "stream",
          "name": "stdout",
          "text": [
            "ASIAN EXPORTERS FEAR DAMAGE FROM U.S.-JAPAN RIFT\n",
            "  Mounting trade friction between the\n",
            "  U.S. And Japan has raised fears among many of Asia's exporting\n",
            "  nations that the row could inflict far-reaching economic\n",
            "  damage, businessmen and officials said.\n",
            "      They told Reuter correspondents in Asian capitals a U.S.\n",
            "  Move against Japan might boost protectionist sentiment in the\n",
            "  U.S. And lead to curbs on American imports of their products.\n",
            "      But some exporters said that while the conflict would hurt\n",
            "  them in the long-run, in the short-term Tokyo's loss might be\n",
            "  their gain.\n",
            "      The U.S. Has said it will impose 300 mln dlrs of tariffs on\n",
            "  imports of Japanese electronics goods on April 17, in\n",
            "  retaliation for Japan's alleged failure to stick to a pact not\n",
            "  to sell semiconductors on world markets at below cost.\n",
            "      Unofficial Japanese estimates put the impact of the tariffs\n",
            "  at 10 billion dlrs and spokesmen for major electronics firms\n",
            "  said they would virtually halt exports of products hit by the\n",
            "  new taxes.\n",
            "      \"We wouldn't be able to do business,\" said a spokesman for\n",
            "  leading Japanese electronics firm Matsushita Electric\n",
            "  Industrial Co Ltd &lt;MC.T>.\n",
            "      \"If the tariffs remain in place for any length of time\n",
            "  beyond a few months it will mean the complete erosion of\n",
            "  exports (of goods subject to tariffs) to the U.S.,\" said Tom\n",
            "  Murtha, a stock analyst at the Tokyo office of broker &lt;James\n",
            "  Capel and Co>.\n",
            "      In Taiwan, businessmen and officials are also worried.\n",
            "      \"We are aware of the seriousness of the U.S. Threat against\n",
            "  Japan because it serves as a warning to us,\" said a senior\n",
            "  Taiwanese trade official who asked not to be named.\n",
            "      Taiwan had a trade trade surplus of 15.6 billion dlrs last\n",
            "  year, 95 pct of it with the U.S.\n",
            "      The surplus helped swell Taiwan's foreign exchange reserves\n",
            "  to 53 billion dlrs, among the world's largest.\n",
            "      \"We must quickly open our markets, remove trade barriers and\n",
            "  cut import tariffs to allow imports of U.S. Products, if we\n",
            "  want to defuse problems from possible U.S. Retaliation,\" said\n",
            "  Paul Sheen, chairman of textile exporters &lt;Taiwan Safe Group>.\n",
            "      A senior official of South Korea's trade promotion\n",
            "  association said the trade dispute between the U.S. And Japan\n",
            "  might also lead to pressure on South Korea, whose chief exports\n",
            "  are similar to those of Japan.\n",
            "      Last year South Korea had a trade surplus of 7.1 billion\n",
            "  dlrs with the U.S., Up from 4.9 billion dlrs in 1985.\n",
            "      In Malaysia, trade officers and businessmen said tough\n",
            "  curbs against Japan might allow hard-hit producers of\n",
            "  semiconductors in third countries to expand their sales to the\n",
            "  U.S.\n",
            "      In Hong Kong, where newspapers have alleged Japan has been\n",
            "  selling below-cost semiconductors, some electronics\n",
            "  manufacturers share that view. But other businessmen said such\n",
            "  a short-term commercial advantage would be outweighed by\n",
            "  further U.S. Pressure to block imports.\n",
            "      \"That is a very short-term view,\" said Lawrence Mills,\n",
            "  director-general of the Federation of Hong Kong Industry.\n",
            "      \"If the whole purpose is to prevent imports, one day it will\n",
            "  be extended to other sources. Much more serious for Hong Kong\n",
            "  is the disadvantage of action restraining trade,\" he said.\n",
            "      The U.S. Last year was Hong Kong's biggest export market,\n",
            "  accounting for over 30 pct of domestically produced exports.\n",
            "      The Australian government is awaiting the outcome of trade\n",
            "  talks between the U.S. And Japan with interest and concern,\n",
            "  Industry Minister John Button said in Canberra last Friday.\n",
            "      \"This kind of deterioration in trade relations between two\n",
            "  countries which are major trading partners of ours is a very\n",
            "  serious matter,\" Button said.\n",
            "      He said Australia's concerns centred on coal and beef,\n",
            "  Australia's two largest exports to Japan and also significant\n",
            "  U.S. Exports to that country.\n",
            "      Meanwhile U.S.-Japanese diplomatic manoeuvres to solve the\n",
            "  trade stand-off continue.\n",
            "      Japan's ruling Liberal Democratic Party yesterday outlined\n",
            "  a package of economic measures to boost the Japanese economy.\n",
            "      The measures proposed include a large supplementary budget\n",
            "  and record public works spending in the first half of the\n",
            "  financial year.\n",
            "      They also call for stepped-up spending as an emergency\n",
            "  measure to stimulate the economy despite Prime Minister\n",
            "  Yasuhiro Nakasone's avowed fiscal reform program.\n",
            "      Deputy U.S. Trade Representative Michael Smith and Makoto\n",
            "  Kuroda, Japan's deputy minister of International Trade and\n",
            "  Industry (MITI), are due to meet in Washington this week in an\n",
            "  effort to end the dispute.\n",
            "  \n",
            "\n",
            "\n"
          ]
        }
      ]
    },
    {
      "cell_type": "markdown",
      "source": [
        "## 5. Pre-processing the data\n",
        "\n",
        "During the lecture, you learnt several steps to pre-process the data.\n",
        "\n",
        "- Words must be lower case\n",
        "- Words must be tokenized\n",
        "- Words must be stemmized / lemmatized\n",
        "- Remove stopwords.\n",
        "\n",
        "You can find the stop words with from **nltk.corpus** import stopwords  \n",
        "You can find a tokenizer with from `nltk import word tokenize`  \n",
        "You can find a Lemmatizer with from `nltk import WordNetLemmatizer`  \n",
        "Pre-process the data with all the different steps described here."
      ],
      "metadata": {
        "id": "eScm0caCskRR"
      }
    },
    {
      "cell_type": "code",
      "source": [
        "# 1. tokenization\n",
        "from nltk.tokenize import word_tokenize\n",
        "\n",
        "# 2. remove unrelevant tokens\n",
        "from nltk.corpus import stopwords\n",
        "import string\n",
        "\n",
        "# 3. Lemming and Stemming\n",
        "from nltk import WordNetLemmatizer\n",
        "from nltk.stem import PorterStemmer"
      ],
      "metadata": {
        "id": "xcDXep6qtUZx"
      },
      "execution_count": 7,
      "outputs": []
    },
    {
      "cell_type": "code",
      "source": [
        "# Downloading nltk dependencies\n",
        "for dep in  ['stopwords', 'wordnet', 'punkt']:\n",
        "  nltk.download(dep)"
      ],
      "metadata": {
        "colab": {
          "base_uri": "https://localhost:8080/"
        },
        "id": "h1iesquAuSMl",
        "outputId": "0d2c0fac-4854-48b8-86be-7779e33639d3"
      },
      "execution_count": 8,
      "outputs": [
        {
          "output_type": "stream",
          "name": "stderr",
          "text": [
            "[nltk_data] Downloading package stopwords to /root/nltk_data...\n",
            "[nltk_data]   Unzipping corpora/stopwords.zip.\n",
            "[nltk_data] Downloading package wordnet to /root/nltk_data...\n",
            "[nltk_data] Downloading package punkt to /root/nltk_data...\n",
            "[nltk_data]   Unzipping tokenizers/punkt.zip.\n"
          ]
        }
      ]
    },
    {
      "cell_type": "code",
      "source": [
        "# Initialization of global variables\n",
        "documents = reuters.fileids()\n",
        "stopwordsPunctuation = stopwords.words('english') + list(string.punctuation)\n",
        "lemmatizer = WordNetLemmatizer()\n",
        "stemmer = PorterStemmer()\n",
        "\n",
        "# For later, to make the document term-matrix\n",
        "vocabulary = set()\n",
        "\n",
        "def add_to_vocabulary(term, include_number=True):\n",
        "    \"\"\"\n",
        "    Adds a word to the vocabulary if it is not already in it.\n",
        "    Returns the word in order to be used in a functional programming style.\n",
        "    \"\"\"\n",
        "    if include_number :\n",
        "      vocabulary.add(term)\n",
        "      return term\n",
        "    #or this to get rid of numbers, like prices in the text ?\n",
        "    # impact : size 34824 against 35698\n",
        "    if not term.isdigit():\n",
        "         vocabulary.add(term)\n",
        "         return term\n",
        "    return \"\""
      ],
      "metadata": {
        "id": "AjkdkMHguGxy"
      },
      "execution_count": 9,
      "outputs": []
    },
    {
      "cell_type": "markdown",
      "source": [
        "Now we can preprocess the data.\n"
      ],
      "metadata": {
        "id": "vy_fHm3ZvlCO"
      }
    },
    {
      "cell_type": "code",
      "source": [
        "train_doc, train_categories, train_ids = zip(*[\n",
        "    [\n",
        "    ' '.join([\n",
        "        add_to_vocabulary(stemmer.stem(lemmatizer.lemmatize(w)))\n",
        "        for w in word_tokenize(reuters.raw(doc_id).lower())\n",
        "        if not w in stopwordsPunctuation\n",
        "        ]),\n",
        "     reuters.categories(doc_id),\n",
        "     doc_id\n",
        "    ]\n",
        "    for doc_id in tqdm(reuters.fileids(), desc=\"Preprocessing documents\", colour=\"green\")\n",
        "    if doc_id.startswith(\"train\")\n",
        "])\n"
      ],
      "metadata": {
        "colab": {
          "base_uri": "https://localhost:8080/"
        },
        "id": "MVPeM-yYuP70",
        "outputId": "c3a9b0ef-99f6-472b-bc30-ac0b6df2ce94"
      },
      "execution_count": 10,
      "outputs": [
        {
          "output_type": "stream",
          "name": "stderr",
          "text": [
            "Preprocessing documents: 100%|\u001b[32m██████████\u001b[0m| 10788/10788 [00:53<00:00, 202.03it/s]\n"
          ]
        }
      ]
    },
    {
      "cell_type": "markdown",
      "source": [
        "Explanations on the `zip(*...`  syntax :  \n",
        "We build an array containning : `[[doc1, cat1, id1], [doc2, cat2, id2], ...]` so in order to unpack this into variables `doc, cat, id`, need to concat the columns of each row.  \n",
        "Thus we first unpack the array using * to obtain n arrays : `[doc1, cat1, id1], [doc2, cat2, id2], ...`\n",
        "and then we use zip to concatenate those arrays into one array : `[[doc1,doc2, ...], [cat1,cat2, ...], [id1,id2, ...]]`"
      ],
      "metadata": {
        "id": "e495StJhwn5H"
      }
    },
    {
      "cell_type": "markdown",
      "source": [
        "Then we display some some stas and document to have an overview of our collection."
      ],
      "metadata": {
        "id": "s-GdYv_Mw-nF"
      }
    },
    {
      "cell_type": "code",
      "source": [
        "print(f\"Number of training documents: {len(train_doc)}\")\n",
        "print(f\"doc id:\\n{train_ids[0]}\")\n",
        "print(f\"doc category:\\ {train_categories[0]}\")\n",
        "print(f\"doc sample:\\n {train_doc[0][:100]}\")\n",
        "\n",
        "print(f\"Vocabulary size of the collection: {len(vocabulary)}\")"
      ],
      "metadata": {
        "colab": {
          "base_uri": "https://localhost:8080/"
        },
        "id": "1Vv2ihhfwona",
        "outputId": "5d6273cb-b401-4ebf-9722-b814df6004ea"
      },
      "execution_count": 11,
      "outputs": [
        {
          "output_type": "stream",
          "name": "stdout",
          "text": [
            "Number of training documents: 7769\n",
            "doc id:\n",
            "training/1\n",
            "doc category:\\ ['cocoa']\n",
            "doc sample:\n",
            " bahia cocoa review shower continu throughout week bahia cocoa zone allevi drought sinc earli januari\n",
            "Vocabulary size of the collection: 35698\n"
          ]
        }
      ]
    },
    {
      "cell_type": "markdown",
      "source": [
        "## 6. Document-term matrix\n",
        "\n",
        "Write a function that takes as input a (pre-processed) corpus of documents and\n",
        "returns the document-term matrix with term-frequency weighting.\n",
        "- Install scikit-learn if not done already\n",
        "- from sklearn.feature extraction.text import TfidfVectorizer\n",
        "- Use the appropriate option of the function to compute the document-term\n",
        "matrix with tf weighting\n",
        "- Compare your function with the one from scikit-learn\n",
        "Note that you can feed this function with a list of stop words and a\n",
        "tokenizer\n",
        "From now on, we will use the function from scikit-learn (which will probably be\n",
        "faster).\n",
        "Additionally, compute the document-term matrix with the tfidf weighting.\n",
        "- From the document-term matrix, compute the frequency of the terms\n",
        "- Plot the frequency vs rank of the terms\n",
        "- Find the constant of the Zipf’s law\n",
        "Compute Latent Semantic Analysis with a TruncatedSVD from scikit-learn on\n",
        "the tfidf document term-matrix.\n",
        "Cluster the terms with your favorite clustering methods. Explore the clusters.\n",
        "Do the same for the documents. You should cluster into 90 clusters."
      ],
      "metadata": {
        "id": "iyuVKmJ6xSFF"
      }
    },
    {
      "cell_type": "code",
      "source": [
        "# Data structure : DataFrame\n",
        "import pandas as pd\n",
        "\n",
        "# Plotting\n",
        "import numpy as np\n",
        "import matplotlib.pyplot as plt\n",
        "\n",
        "# Mesuring execution time\n",
        "from time import perf_counter_ns\n",
        "\n",
        "# Computing term frequency\n",
        "from collections import Counter\n",
        "\n",
        "# Sklearn Document-term matrix\n",
        "from sklearn.feature_extraction.text import TfidfVectorizer"
      ],
      "metadata": {
        "id": "Zo5fMb8oxwDY"
      },
      "execution_count": 12,
      "outputs": []
    },
    {
      "cell_type": "markdown",
      "source": [
        "### Personal Document-term matrix function"
      ],
      "metadata": {
        "id": "geBymIOQy17F"
      }
    },
    {
      "cell_type": "code",
      "source": [
        "def create_document_term_matrix(preprocessed_corpus, doc_ids, vocabulary) -> (pd.DataFrame, int):\n",
        "    \"\"\"\n",
        "    Create the document-term matrix of the preprocessed corpus.\n",
        "    columns are the terms of the vocabulary and\n",
        "    rows are the documents id of the corpus.\n",
        "    \"\"\"\n",
        "    start_time = perf_counter_ns()\n",
        "    dtm = pd.DataFrame(0, index=doc_ids, columns=vocabulary)\n",
        "\n",
        "    for doc, id in tqdm(zip(preprocessed_corpus, doc_ids), total=len(doc_ids), desc=\"Creating document-term matrix\", colour=\"red\"):\n",
        "        doc_terms = doc.split()\n",
        "        total_nb_terms = len(doc_terms) if len(doc_terms) != 0 else 1\n",
        "        terms_count = Counter(doc_terms)\n",
        "\n",
        "        for term, count in terms_count.items():\n",
        "            dtm.at[id, term] = count // total_nb_terms\n",
        "\n",
        "    computation_time = perf_counter_ns() - start_time\n",
        "\n",
        "    return dtm, computation_time"
      ],
      "metadata": {
        "id": "28liMOE0xmOL"
      },
      "execution_count": 13,
      "outputs": []
    },
    {
      "cell_type": "markdown",
      "source": [
        "### Sklearn Document-term matrix function"
      ],
      "metadata": {
        "id": "Wlj_XSzuzGEN"
      }
    },
    {
      "cell_type": "code",
      "source": [
        "def create_document_term_matrix_with_scikitlearn(preprocessed_corpus, use_idf=False) -> (pd.DataFrame, int):\n",
        "    \"\"\"\n",
        "    Create the document-term matrix of the preprocessed corpus.\n",
        "    columns are the terms of the vocabulary and\n",
        "    rows are the documents id of the corpus.\n",
        "    \"\"\"\n",
        "    start_time = perf_counter_ns()\n",
        "\n",
        "    vectorizer = TfidfVectorizer(input=\"content\", tokenizer=word_tokenize, stop_words=stopwordsPunctuation, use_idf=use_idf)\n",
        "    dtm = vectorizer.fit_transform(preprocessed_corpus)\n",
        "\n",
        "    computation_time = perf_counter_ns() - start_time\n",
        "\n",
        "    return dtm, vectorizer, computation_time"
      ],
      "metadata": {
        "id": "UYTgziUtyebC"
      },
      "execution_count": 14,
      "outputs": []
    },
    {
      "cell_type": "markdown",
      "source": [
        "### Creating matrix with both functions"
      ],
      "metadata": {
        "id": "ggDsP27NzlY9"
      }
    },
    {
      "cell_type": "code",
      "source": [
        "dtm, time = create_document_term_matrix(train_doc, train_ids, list(vocabulary))\n",
        "\n",
        "print(f\"Computation time: {time} ns.\")\n",
        "print_time(time)"
      ],
      "metadata": {
        "colab": {
          "base_uri": "https://localhost:8080/"
        },
        "id": "ShJw58GCzt0E",
        "outputId": "8ce9a952-6395-4d2b-b8b3-c2d6300e88ad"
      },
      "execution_count": 15,
      "outputs": [
        {
          "output_type": "stream",
          "name": "stderr",
          "text": [
            "Creating document-term matrix: 100%|\u001b[31m██████████\u001b[0m| 7769/7769 [00:09<00:00, 837.59it/s]"
          ]
        },
        {
          "output_type": "stream",
          "name": "stdout",
          "text": [
            "Computation time: 10042285570 ns.\n",
            "time (HH:MM:SS) 0:00:10.042286\n"
          ]
        },
        {
          "output_type": "stream",
          "name": "stderr",
          "text": [
            "\n"
          ]
        }
      ]
    },
    {
      "cell_type": "code",
      "source": [
        "dtm_sklearn, _, time = create_document_term_matrix_with_scikitlearn(train_doc)\n",
        "\n",
        "print(f\"Computation time with scikitlearn: {time} ns.\")\n",
        "print_time(time)"
      ],
      "metadata": {
        "colab": {
          "base_uri": "https://localhost:8080/"
        },
        "id": "ZcjwGtuazyap",
        "outputId": "a52a4e4c-92b3-4513-981e-3a54fed5f934"
      },
      "execution_count": 16,
      "outputs": [
        {
          "output_type": "stream",
          "name": "stderr",
          "text": [
            "/usr/local/lib/python3.10/dist-packages/sklearn/feature_extraction/text.py:528: UserWarning: The parameter 'token_pattern' will not be used since 'tokenizer' is not None'\n",
            "  warnings.warn(\n",
            "/usr/local/lib/python3.10/dist-packages/sklearn/feature_extraction/text.py:409: UserWarning: Your stop_words may be inconsistent with your preprocessing. Tokenizing the stop words generated tokens [\"'d\", \"'ll\", \"'re\", \"'s\", \"'ve\", '``', 'could', 'might', 'must', \"n't\", 'need', 'sha', 'wo', 'would'] not in stop_words.\n",
            "  warnings.warn(\n"
          ]
        },
        {
          "output_type": "stream",
          "name": "stdout",
          "text": [
            "Computation time with scikitlearn: 3826862206 ns.\n",
            "time (HH:MM:SS) 0:00:03.826862\n"
          ]
        }
      ]
    },
    {
      "cell_type": "code",
      "source": [
        "dtm_tfidf_sklearn, tfvectorizer, time = create_document_term_matrix_with_scikitlearn(train_doc, use_idf=True)\n",
        "print(f\"Computation time with scikitlearn and tf-idf: {time} ns.\")\n",
        "print_time(time)\n"
      ],
      "metadata": {
        "colab": {
          "base_uri": "https://localhost:8080/"
        },
        "id": "WWxgbHrMz9m1",
        "outputId": "5832ef2e-9fe8-4e3a-e662-cde6f5f3bb56"
      },
      "execution_count": 17,
      "outputs": [
        {
          "output_type": "stream",
          "name": "stdout",
          "text": [
            "Computation time with scikitlearn and tf-idf: 3800324452 ns.\n",
            "time (HH:MM:SS) 0:00:03.800324\n"
          ]
        }
      ]
    },
    {
      "cell_type": "markdown",
      "source": [
        "### Compute Latent Semantic Analysis"
      ],
      "metadata": {
        "id": "LTajKvdZ0GlL"
      }
    },
    {
      "cell_type": "code",
      "source": [
        "# compute the frequency of the each terms in the collection\n",
        "term_frequencies = np.array(dtm_tfidf_sklearn.sum(axis=0)).flatten()\n",
        "\n",
        "# Sort term frequencies in descending order\n",
        "sorted_term_indices = np.argsort(term_frequencies)[::]\n",
        "# Note: The np.argsort() function returns the indices that would sort an array,\n",
        "\n",
        "terms = tfvectorizer.get_feature_names_out()\n",
        "ranked_term_asc = [terms[i] for i in sorted_term_indices]\n",
        "print(f\"Term frequencies: {ranked_term_asc[:10]}\")\n",
        "\n",
        "# Plot frequency vs. rank\n",
        "df = pd.DataFrame({'term': terms, 'frequency': term_frequencies})\n",
        "# Customize X-axis labels (display vertically)\n",
        "# plt.xticks(df['term'][:20], rotation=90, verticalalignment=\"center\", fontsize=8)\n",
        "ax = df.plot(x='term', y='frequency', logy=True, figsize=(12, 6))"
      ],
      "metadata": {
        "colab": {
          "base_uri": "https://localhost:8080/",
          "height": 560
        },
        "id": "1F9L_6GR0KTj",
        "outputId": "7ea91c5c-ccce-4476-fda6-04dcdff95e29"
      },
      "execution_count": 18,
      "outputs": [
        {
          "output_type": "stream",
          "name": "stdout",
          "text": [
            "Term frequencies: ['4.98', 'cinci', 'portland/', 'kc', 'soyb', 'evansvil', 'amarillo/', 'amarlo/', 'evnsvll', 'lubbck']\n"
          ]
        },
        {
          "output_type": "display_data",
          "data": {
            "text/plain": [
              "<Figure size 1200x600 with 1 Axes>"
            ],
            "image/png": "[encoded data removed]"
          },
          "metadata": {}
        }
      ]
    },
    {
      "cell_type": "code",
      "source": [
        "# Perform LSA using TruncatedSVD:\n",
        "from sklearn.decomposition import TruncatedSVD\n",
        "\n",
        "# Specify the number of components (topics) for LSA\n",
        "num_components = 90\n",
        "\n",
        "lsa = TruncatedSVD(n_components=num_components)\n",
        "lsa_result = lsa.fit_transform(dtm_tfidf_sklearn)\n",
        "\n",
        "#Cluster the terms and documents using your favorite clustering methods.\n",
        "# You can use methods like K-means, hierarchical clustering,\n",
        "# or any other clustering algorithm of your choic\n",
        "from sklearn.cluster import KMeans\n",
        "\n",
        "# Specify the number of clusters for term clustering\n",
        "num_term_clusters = 90\n",
        "\n",
        "kmeans = KMeans(n_clusters=num_term_clusters)\n",
        "term_clusters = kmeans.fit_predict(lsa_result)\n",
        "\n",
        "\n",
        "# Explore the clusters\n",
        "def get_top_terms_per_cluster(lsa_result, term_clusters, terms, num_top_terms=10):\n",
        "    top_terms_per_cluster = []\n",
        "    top_terms_to_cluster = [] # store the corresponding cluster id for each term\n",
        "\n",
        "    for cluster_id in range(num_term_clusters):\n",
        "        cluster_indices = np.where(term_clusters == cluster_id)[0]\n",
        "        cluster_term_weights = lsa_result[cluster_indices]  # Get the term weights for the cluster\n",
        "        cluster_term_weights_sum = cluster_term_weights.sum(axis=0)  # Sum term weights along cluster samples\n",
        "\n",
        "        # Find the indices of the top terms based on their weights\n",
        "        top_term_indices = np.argsort(cluster_term_weights_sum)[::-1][:num_top_terms]\n",
        "        top_cluster_terms = [terms[i] for i in top_term_indices]\n",
        "        top_terms_per_cluster.append(top_cluster_terms)\n",
        "\n",
        "        # Populate top_terms_to_cluster with cluster IDs for each term\n",
        "        for term_index in top_term_indices:\n",
        "            top_terms_to_cluster.append(cluster_id)\n",
        "\n",
        "\n",
        "    return top_terms_per_cluster, top_terms_to_cluster\n",
        "\n",
        "# Get the top terms in each cluster\n",
        "top_terms_per_cluster, top_terms_to_cluster = get_top_terms_per_cluster(lsa_result, term_clusters, terms)\n",
        "print(top_terms_per_cluster)"
      ],
      "metadata": {
        "colab": {
          "base_uri": "https://localhost:8080/"
        },
        "id": "s9GSR_xb08Gg",
        "outputId": "805d259f-e4d7-4716-8e7c-a8de59d22a12"
      },
      "execution_count": 19,
      "outputs": [
        {
          "output_type": "stream",
          "name": "stderr",
          "text": [
            "/usr/local/lib/python3.10/dist-packages/sklearn/cluster/_kmeans.py:870: FutureWarning: The default value of `n_init` will change from 10 to 'auto' in 1.4. Set the value of `n_init` explicitly to suppress the warning\n",
            "  warnings.warn(\n"
          ]
        },
        {
          "output_type": "stream",
          "name": "stdout",
          "text": [
            "[[\"'at\", \"'87\", \"'growth\", \"'give\", \"'event\", \"'bankrupt\", '+2.8', '+12.8', \"'re\", '-0.6'], [\"'at\", \"'87\", \"'87/88\", '-daimler-puch', \"'d\", '-base', '+2.4', '.000', '-radiat', '-6.3'], [\"'87/88\", \"'sourc\", \"'growth\", \"'liber\", \"'87\", '--', '-10.0', '-agenc', '-grower', '.....'], [\"'87\", \"'event\", \"'old\", \"'liber\", \"'n\", \"'protection\", \"'ll\", \"'the\", \"'give\", '+bahia'], [\"'87\", \"'bankrupt\", \"'d\", '+13.7', '-7.1', \"'ve\", ',100', '+12.5', '-0.90', \"'m\"], [\"'87\", \"'take\", \"'no\", \"'sourc\", \"'d\", '+10.1', \"'sugarcan\", \"'protection\", \"'s\", \"'we\"], [\"'87/88\", \"'ve\", '-aci', '-0.90', \"'re\", '+13.5', '......', \"'87\", \"'n\", \"'ll\"], [\"'87\", '+bahia', \"'87/88\", '+2.8', '+13.5', \"'liber\", '--', \"'n\", \"'old\", \"'bankrupt\"], [\"'87\", \"'bankrupt\", \"'m\", \"'old\", \"'give\", \"'sourc\", \"'full\", '-10.0', ',100', \"'s\"], [\"'87\", \"'event\", \"'give\", \"'m\", \"'growth\", \"'sugarcan\", \"'full\", \"'d\", \"'target\", \"'re\"], [\"'we\", '+1.8', '+13.5', \"'87/88\", '+12.5', \"'s\", \"'d\", \"'liber\", '+2.4', \"'ll\"], [\"'87/88\", \"'d\", \"'87\", \"'teishoku\", \"'take\", \"'full\", '-8.7', \"'protection\", \"'ve\", '-micropro'], [\"'at\", \"'no\", \"'m\", \"'d\", \"'liber\", \"'87/88\", \"'87\", \"'ll\", \"'let\", \"'full\"], [\"'87/88\", \"'give\", \"'87\", '+7.7', '+3.4', \"'take\", \"'target\", '+10.1', \"'old\", '-daimler-puch'], [\"'87/88\", \"'bankrupt\", \"'event\", \"'87\", \"'ll\", \"'take\", '-0.90', \"'the\", \"'re\", ',100'], [\"'at\", \"'87\", '-banker', \"'growth\", \"'give\", '-agenc', \"'event\", '-announc', '+3.4', '+2.4'], [\"'bankrupt\", \"'full\", \"'give\", \"'87/88\", \"'87\", \"'ll\", \"'protection\", \"'event\", \"'no\", \"'liber\"], ['-ivori', \"'87/88\", '-daimler-puch', '+5.6', '..', '-micropro', '+10.1', '.029', '-franc', '+12.5'], [\"'87/88\", \"'event\", \"'sourc\", \"'bankrupt\", \"'let\", '+13.5', ',100', \"'ve\", '+7.7', '-10.4'], [\"'87\", \"'bankrupt\", \"'teishoku\", '-8.7', \"'let\", '+5.6', '-daimler-puch', '-11.7', '+1.8', '-laval'], [\"'growth\", \"'87/88\", \"'bankrupt\", \"'87\", \"'n\", \"'liber\", \"'event\", \"'d\", '-10.4', '-1.10'], ['+10.1', \"'87/88\", \"'growth\", \"'let\", '+12.5', \"'the\", \"'87\", \"'ll\", \"'bankrupt\", '-dealer'], [\"'sugarcan\", \"'let\", \"'give\", \"'s\", \"'87/88\", '+1.8', \"'the\", \"'sourc\", \"'n\", '+12.5'], [\"'87/88\", \"'d\", \"'s\", \"'87\", \"'full\", \"'liber\", \"'let\", \"'ll\", '+12.8', \"'at\"], ['-11.7', \"'87/88\", '+3.4', \"'ve\", \"'87\", '-7.1', '-franc', '+2.8', '-daimler-puch', '+13.5'], [\"'re\", \"'87/88\", \"'target\", \"'no\", \"'give\", \"'sourc\", \"'ll\", \"'87\", '+12.5', \"'n\"], [\"'87/88\", \"'bankrupt\", \"'event\", \"'let\", \"'full\", \"'sourc\", \"'87\", \"'no\", '-laval', \"'old\"], [\"'ll\", \"'let\", \"'growth\", \"'87/88\", \"'protection\", \"'bankrupt\", \"'old\", \"'event\", \"'sugarcan\", '-1.10'], [\"'87/88\", \"'sourc\", '+1.8', \"'sugarcan\", ',100', '+13.7', '-10.0', \"'87\", \"'give\", '-137'], [\"'87/88\", \"'teishoku\", \"'m\", \"'protection\", \"'s\", '-agenc', \"'target\", '+13.7', \"'let\", '-1.10'], ['+9.8', '+7.7', \"'s\", \"'d\", '+12.8', \"'87/88\", ',100', \"'target\", \"'let\", \"'the\"], [\"'87/88\", \"'protection\", \"'87\", '+12.8', '+12.5', '-0.90', \"'liber\", \"'m\", \"'sourc\", \"'full\"], [\"'re\", \"'ve\", '+12.8', '+1.8', '+10.1', '+2.4', \"'87/88\", \"'take\", \"'sourc\", \"'ll\"], [\"'give\", \"'let\", \"'87/88\", '+13.7', '-0.6', \"'87\", '+2.4', \"'growth\", \"'s\", \"'liber\"], [\"'bankrupt\", \"'full\", \"'87/88\", \"'give\", '-137', '..........................................', \"'87\", \"'no\", '-announc', '+9.8'], [\"'87/88\", \"'87\", \"'d\", \"'growth\", \"'old\", \"'event\", \"'protection\", \"'no\", '+1.8', '-grower'], [\"'87/88\", \"'protection\", \"'let\", \"'full\", \"'m\", \"'s\", \"'event\", \"'bankrupt\", \"'87\", '--'], ['-1.10', '-6.3', \"'87/88\", '--', '+12.8', \"'s\", \"'d\", '+12.5', '+2.8', '-10.0'], ['-offici', '-minist', \"'s\", \"'d\", \"'87/88\", \"'the\", '..', '-137', '-radiat', '+12.8'], [\"'87/88\", \"'87\", '+10.1', '-daimler-puch', \"'target\", '....', \"'give\", '+5.6', \"'n\", \"'protection\"], [\"'give\", \"'87/88\", \"'let\", ',100', '+3.4', '+5.6', '-14.2', '-10.0', '-7.1', '-1.10'], ['-base', '-grower', '-micropro', '-announc', '-7.1', '-aci', '-laval', \"'87/88\", '-2.8', \"'d\"], [\"'87/88\", \"'87\", '-dealer', \"'d\", '-14.2', '-0.6', \"'full\", '+7.7', '-11.7', '-1.10'], [\"'n\", \"'87/88\", '-7.1', '......', '....', \"'m\", '-banker', '-dealer', '-14.2', '-2.8'], [\"'87/88\", \"'sourc\", '-11.7', '..', '-agenc', '-2.0', '+1.8', '-2.8', '+bahia', '-8.7'], [\"'87/88\", \"'full\", \"'87\", \"'event\", \"'bankrupt\", \"'n\", \"'let\", '-0.90', '-7.1', '+2.8'], [\"'87/88\", \"'d\", \"'87\", \"'full\", \"'teishoku\", \"'let\", \"'at\", \"'we\", '-137', '+3.4'], [\"'87\", \"'sourc\", \"'event\", \"'d\", \"'growth\", \"'take\", \"'old\", \"'s\", '-7.1', \"'no\"], [\"'at\", \"'87\", \"'growth\", '-offici', '-iri', '-base', '-aci', \"'give\", '-6.3', \"'event\"], [\"'87\", \"'bankrupt\", \"'m\", \"'sugarcan\", '+3.4', \"'ll\", \"'let\", '-2.8', '........', '-base'], [\"'n\", '+13.5', '--', \"'ve\", \"'87/88\", '-ivori', \"'87\", '-dealer', '-laval', '+13.7'], [\"'87/88\", \"'n\", '-10.0', \"'m\", '-2.0', '-0.6', \"'ll\", \"'s\", \"'87\", '-2.8'], [\"'87/88\", \"'bankrupt\", '-aci', \"'event\", '-2.8', \"'87\", '+2.8', '-10.4', '-laval', '-dealer'], [\"'ll\", \"'growth\", \"'let\", '+7.7', \"'87/88\", \"'teishoku\", '+2.8', '+13.7', \"'bankrupt\", '+12.5'], [\"'87\", \"'event\", \"'take\", \"'sourc\", \"'no\", \"'growth\", \"'s\", \"'give\", '+10.1', \"'d\"], [\"'growth\", \"'87/88\", \"'liber\", \"'bankrupt\", \"'87\", \"'we\", '-14.2', \"'the\", '..', '-announc'], [\"'the\", \"'target\", \"'87/88\", \"'take\", \"'sugarcan\", \"'protection\", '+2.8', \"'87\", '+1.8', \"'n\"], [\"'at\", '+2.4', \"'no\", \"'d\", \"'87/88\", \"'m\", \"'87\", \"'liber\", '+3.4', '+13.5'], [\"'87/88\", \"'event\", \"'87\", \"'bankrupt\", '+12.5', '-14.2', \"'target\", '--', \"'old\", \"'protection\"], [\"'87/88\", \"'we\", \"'growth\", '--', \"'teishoku\", \"'the\", \"'liber\", '-137', '-7.1', '-micropro'], [\"'87/88\", \"'87\", \"'s\", \"'no\", \"'old\", \"'sugarcan\", \"'teishoku\", '-14.2', '+9.8', '-dealer'], [\"'87/88\", '-14.2', '-iri', '-0.6', \"'87\", \"'d\", '-agenc', '-aci', '-2.8', \"'full\"], [\"'87/88\", \"'bankrupt\", '......', '..............', '.................', '..........', '-aci', \"'n\", '-base', \"'event\"], [\"'m\", \"'d\", \"'at\", \"'liber\", \"'no\", \"'87/88\", \"'ll\", \"'87\", \"'take\", \"'full\"], [\"'87\", \"'at\", \"'let\", \"'bankrupt\", \"'n\", '.....', \"'protection\", '-2.0', '-banker', \"'no\"], ['-0.6', '-137', '-10.4', '-6.3', \"'teishoku\", \"'we\", \"'87/88\", '-11.7', '-7.1', '+3.4'], [\"'87\", \"'87/88\", \"'d\", \"'no\", \"'protection\", '-0.6', '+1.8', \"'old\", \"'event\", ',100'], [\"'87/88\", \"'growth\", '-8.7', '-2.8', '-0.90', '-grower', \"'87\", '-daimler-puch', \"'liber\", '--'], [\"'87/88\", \"'teishoku\", \"'we\", '-10.4', '-0.6', \"'s\", '--', '-micropro', \"'the\", '-7.1'], [\"'87/88\", \"'give\", '+bahia', \"'sugarcan\", '+12.5', \"'let\", '+5.6', '+3.4', \"'ve\", \"'s\"], [\"'87\", \"'event\", \"'give\", \"'ll\", \"'sugarcan\", \"'liber\", \"'full\", \"'m\", \"'target\", \"'let\"], [\"'87/88\", \"'87\", \"'old\", \"'ve\", \"'take\", \"'s\", \"'no\", \"'full\", \"'ll\", \"'sugarcan\"], [\"'bankrupt\", \"'full\", \"'give\", \"'87/88\", \"'ll\", \"'87\", \"'teishoku\", '..', \"'protection\", '-radiat'], [\"'87/88\", \"'bankrupt\", \"'87\", \"'n\", \"'liber\", \"'growth\", '-2.0', \"'old\", '-0.6', '-0.90'], [\"'87/88\", \"'d\", \"'ve\", \"'87\", \"'target\", \"'liber\", \"'let\", \"'s\", '+10.1', \"'ll\"], [\"'87/88\", \"'give\", '-14.2', \"'let\", \"'teishoku\", '-2.8', \"'87\", '-10.4', '-137', '-11.7'], [\"'87\", \"'87/88\", \"'old\", \"'protection\", \"'give\", \"'bankrupt\", \"'d\", \"'full\", \"'sourc\", \"'s\"], [\"'m\", \"'87/88\", \"'87\", \"'give\", \"'d\", '+10.1', '-137', '-0.6', \"'n\", '-dealer'], [\"'87/88\", \"'bankrupt\", \"'event\", \"'sourc\", \"'teishoku\", \"'let\", \"'target\", '-2.0', '....................', '-0.6'], [\"'87\", \"'liber\", \"'growth\", \"'bankrupt\", \"'n\", \"'87/88\", \"'old\", '+7.7', '+12.5', ',100'], [\"'87\", \"'at\", '-8.7', '-1.10', '-base', '-franc', \"'no\", \"'protection\", \"'the\", \"'we\"], ['+5.6', '+13.7', \"'87/88\", '+10.1', '+12.5', '+12.8', '-micropro', '-radiat', '+13.5', \"'re\"], [\"'87/88\", \"'give\", \"'take\", '+13.7', '-7.1', '-0.6', '-6.3', '-announc', '-minist', \"'87\"], [\"'87/88\", \"'n\", \"'87\", \"'d\", \"'m\", '...', '..', '-6.3', \"'ll\", '-dealer'], [\"'give\", \"'87/88\", \"'let\", \"'87\", \"'we\", '-2.0', \"'sugarcan\", '+2.4', '-1.10', \"'ve\"], [\"'87/88\", '+5.6', '+13.7', '+10.1', '+12.8', '+13.5', '+12.5', '-aci', \"'87\", \"'re\"], [\"'87/88\", '+13.5', \"'sourc\", '+12.5', '+12.8', \"'liber\", \"'87\", \"'protection\", \"'growth\", \"'ve\"], [\"'at\", \"'87\", '+10.1', '--', ',100', '-14.2', \"'growth\", '-10.4', \"'event\", '-2.8'], [\"'87/88\", \"'n\", \"'87\", \"'m\", \"'ll\", ',100', \"'give\", '+2.4', '+bahia', \"'s\"], [\"'87\", \"'old\", \"'protection\", \"'event\", \"'sourc\", \"'the\", \"'liber\", \"'n\", \"'s\", \"'ll\"]]\n"
          ]
        }
      ]
    },
    {
      "cell_type": "markdown",
      "source": [
        "## 7. Word embedding (if you have time)\n",
        "\n",
        "One of the most famous machine learning model is Word2Vec. Its aim is to\n",
        "compute a low-dimensional representation of the words of a corpus.\n",
        "- Install gensim\n",
        "- Import Word2vec: from gensim.models import Word2Vec\n",
        "- Compute the embedding of the words of the corpus in dimension 16.\n",
        "- Get vector of word ’computer’: vector = model.wv[’computer’]\n",
        "- Find similar words with sims = model.wv.mostsimilar(′computer′, topn =\n",
        "10)\n",
        "- For the most frequent term, compare the set of similar words given by\n",
        "word2vec to the set of words which belonged to its cluster (computed in\n",
        "the previous section)."
      ],
      "metadata": {
        "id": "Q1A0i_LJ2A6w"
      }
    },
    {
      "cell_type": "code",
      "source": [
        "# 1) Import Word2vec: from gensim.models import Word2Vec\n",
        "from gensim.models import Word2Vec\n",
        "\n",
        "corpus = [doc.split() for doc in train_doc]\n",
        "# 2) Compute the embedding of the words of the corpus in dimension 16.\n",
        "model = Word2Vec(corpus, vector_size=16, window=5, min_count=1, sg=0)"
      ],
      "metadata": {
        "id": "Ir_z0xfEhcj2"
      },
      "execution_count": 20,
      "outputs": []
    },
    {
      "cell_type": "code",
      "source": [
        "# 3) Get vector of word ’computer’: vector = model.wv[’computer’]\n",
        "vector = model.wv['computer']"
      ],
      "metadata": {
        "id": "luWOLGlwk1Lu"
      },
      "execution_count": 21,
      "outputs": []
    },
    {
      "cell_type": "code",
      "source": [
        "# 4) Find similar words with sims = model.wv.mostsimilar(′computer′, topn = 10)\n",
        "similar_words = model.wv.most_similar('computer', topn=10)\n",
        "print(similar_words)"
      ],
      "metadata": {
        "colab": {
          "base_uri": "https://localhost:8080/"
        },
        "id": "m3dF8kLG2Fm6",
        "outputId": "d6bb738d-0b31-4376-c307-d8c2ee355661"
      },
      "execution_count": 22,
      "outputs": [
        {
          "output_type": "stream",
          "name": "stdout",
          "text": [
            "[('grenfel', 0.9631187915802002), ('b.', 0.9623734354972839), ('bloedel', 0.9596046209335327), ('chain', 0.9560831189155579), ('gordon', 0.9546690583229065), ('colorado', 0.9544810652732849), ('philip', 0.953162431716919), ('calif.', 0.9515143036842346), ('societ', 0.9507642984390259), ('district', 0.9501409530639648)]\n"
          ]
        }
      ]
    },
    {
      "cell_type": "code",
      "source": [
        "# 5) For the most frequent term, compare the set of similar words given by word2vec\n",
        "# to the set of words which belonged to its cluster\n",
        "# (computed in the previous section).\n",
        "\n",
        "# 1. Identify the most frequent term\n",
        "for top_term_cluster in top_terms_per_cluster:\n",
        "  most_frequent_term = top_term_cluster[0]\n",
        "\n",
        "  # 2. Find the cluster to which the most frequent term belongs\n",
        "  cluster_of_most_frequent_term = np.where(np.array(top_terms_per_cluster) == most_frequent_term)[0][0]\n",
        "\n",
        "  # 3. Retrieve the set of similar words using Word2Vec for the most frequent term (assuming you have a Word2Vec model)\n",
        "  # You should replace 'your_word2vec_model' with the actual Word2Vec model you have.\n",
        "  similar_words_word2vec = model.wv.most_similar(most_frequent_term, topn=50)\n",
        "\n",
        "  # 4. Compare the Word2Vec similar words to the words in the cluster\n",
        "  similar_words_word2vec = set([word for word, similarity in similar_words_word2vec])\n",
        "  words_in_cluster = set(top_terms_per_cluster[cluster_of_most_frequent_term])\n",
        "\n",
        "  # Compare the two sets\n",
        "  intersection = similar_words_word2vec.intersection(words_in_cluster)\n",
        "  print(f\"Most frequent term: {most_frequent_term}\")\n",
        "  print(f\"Similar words from Word2Vec: {similar_words_word2vec}\")\n",
        "  print(f\"Words in the cluster of the most frequent term: {words_in_cluster}\")\n",
        "  print(f\"Intersection between Word2Vec similar words and cluster words: {intersection}\")"
      ],
      "metadata": {
        "colab": {
          "base_uri": "https://localhost:8080/"
        },
        "id": "ugkPkd7oolZY",
        "outputId": "82116ea8-7e27-429b-c9da-10e5f8c4c1ff"
      },
      "execution_count": 23,
      "outputs": [
        {
          "output_type": "stream",
          "name": "stdout",
          "text": [
            "Most frequent term: 'at\n",
            "Similar words from Word2Vec: {\"friday'\", '320,057', 'calmar', 'subject', 'usm', '8,866', 'offer', 'spillman', 'addit', '3,166,000', 'usair', 'pl-480', '19,488,587', 'neglig', '172.8', '319,588', 'takeov', '9,163,141', '0.55', 'authroiz', 'bid', '1,788,406', 'suc', 'prepay', 'ri', 'bwa', 'peugeot', 'previous', 'messidor', 'issuabl', 'alternaitcv', 'all-cash', '14.25', 'pathogen', 'unitel', 'solicit', 'twa', 'gencorp', 'crr', 'alf', 'gesamtmetal', 'receiv', '630', 'kiatpaiboon', 'forthcom', 'partially-ori', 'right', 'c.o.m.b.', 'consumm', 'entangl'}\n",
            "Words in the cluster of the most frequent term: {'-0.6', \"'at\", \"'bankrupt\", \"'give\", '+12.8', \"'87\", \"'growth\", \"'re\", \"'event\", '+2.8'}\n",
            "Intersection between Word2Vec similar words and cluster words: set()\n",
            "Most frequent term: 'at\n",
            "Similar words from Word2Vec: {\"friday'\", '320,057', 'calmar', 'subject', 'usm', '8,866', 'offer', 'spillman', 'addit', '3,166,000', 'usair', 'pl-480', '19,488,587', 'neglig', '172.8', '319,588', 'takeov', '9,163,141', '0.55', 'authroiz', 'bid', '1,788,406', 'suc', 'prepay', 'ri', 'bwa', 'peugeot', 'previous', 'messidor', 'issuabl', 'alternaitcv', 'all-cash', '14.25', 'pathogen', 'unitel', 'solicit', 'twa', 'gencorp', 'crr', 'alf', 'gesamtmetal', 'receiv', '630', 'kiatpaiboon', 'forthcom', 'partially-ori', 'right', 'c.o.m.b.', 'consumm', 'entangl'}\n",
            "Words in the cluster of the most frequent term: {'-0.6', \"'at\", \"'bankrupt\", \"'give\", '+12.8', \"'87\", \"'growth\", \"'re\", \"'event\", '+2.8'}\n",
            "Intersection between Word2Vec similar words and cluster words: set()\n",
            "Most frequent term: '87/88\n",
            "Similar words from Word2Vec: {'memphi', 'sandbank', 'amp', '795,522', 'unaffili', 'satellit', '17.71', 'winston', 'bork', 'pep', 'shaalan', 'rental', 'cr', 'multius', 'theater', 'cellular', 'interwest', 'skate', 'franz', '4.500', 'adhes', 'fungal', 'octano', 'blue', 'juan', 'schn.pa', 'trecker', 'reloc', '1,284.50', 'president-elect', 'detroit', 'equi', 'planter', 'franchis', 'electro', 'owens-corn', 'cpl', 'hydro', 'overlook', 'infortext', 'jenrett', 'd-mont', 'trademark', 'hot-rol', 'pendleton', '1912', '18.51', 'to-fit', 'ariz.', 'curti'}\n",
            "Words in the cluster of the most frequent term: {'-daimler-puch', \"'87/88\", '.000', \"'at\", '-base', '-6.3', \"'d\", '-radiat', \"'87\", '+2.4'}\n",
            "Intersection between Word2Vec similar words and cluster words: set()\n",
            "Most frequent term: '87\n",
            "Similar words from Word2Vec: {'ari', 'suzann', 'loss-mak', 'reddaway', 'dept', '862,500', '34.125', 'indentifi', 'wound', '72,203', 'rhetor', '148.50', 'gottesman', 'thompson', 'frankfurt', 'uiie', 'short-rang', 'oppon', 'h.c.', '5,940,000', '3.15', 'toe', 'frustrat', '517', 'rri', 'masaji', '52,409', '631.6', 'survivor', 'nahum', '738', '10.26', 'avp', 'chri', 'excelso', '97-13/32', '..........................................', 'counselor', '59,430', 'beginn', 'c.f', 'anwar', 'ortner', 'egyptian', '24.98', '18,467', 'three-judg', 'g-6', 'mo.', '2,336,000'}\n",
            "Words in the cluster of the most frequent term: {'-0.6', \"'at\", \"'bankrupt\", \"'give\", '+12.8', \"'87\", \"'growth\", \"'re\", \"'event\", '+2.8'}\n",
            "Intersection between Word2Vec similar words and cluster words: set()\n",
            "Most frequent term: '87\n",
            "Similar words from Word2Vec: {'ari', 'suzann', 'loss-mak', 'reddaway', 'dept', '862,500', '34.125', 'indentifi', 'wound', '72,203', 'rhetor', '148.50', 'gottesman', 'thompson', 'frankfurt', 'uiie', 'short-rang', 'oppon', 'h.c.', '5,940,000', '3.15', 'toe', 'frustrat', '517', 'rri', 'masaji', '52,409', '631.6', 'survivor', 'nahum', '738', '10.26', 'avp', 'chri', 'excelso', '97-13/32', '..........................................', 'counselor', '59,430', 'beginn', 'c.f', 'anwar', 'ortner', 'egyptian', '24.98', '18,467', 'three-judg', 'g-6', 'mo.', '2,336,000'}\n",
            "Words in the cluster of the most frequent term: {'-0.6', \"'at\", \"'bankrupt\", \"'give\", '+12.8', \"'87\", \"'growth\", \"'re\", \"'event\", '+2.8'}\n",
            "Intersection between Word2Vec similar words and cluster words: set()\n",
            "Most frequent term: '87\n",
            "Similar words from Word2Vec: {'ari', 'suzann', 'loss-mak', 'reddaway', 'dept', '862,500', '34.125', 'indentifi', 'wound', '72,203', 'rhetor', '148.50', 'gottesman', 'thompson', 'frankfurt', 'uiie', 'short-rang', 'oppon', 'h.c.', '5,940,000', '3.15', 'toe', 'frustrat', '517', 'rri', 'masaji', '52,409', '631.6', 'survivor', 'nahum', '738', '10.26', 'avp', 'chri', 'excelso', '97-13/32', '..........................................', 'counselor', '59,430', 'beginn', 'c.f', 'anwar', 'ortner', 'egyptian', '24.98', '18,467', 'three-judg', 'g-6', 'mo.', '2,336,000'}\n",
            "Words in the cluster of the most frequent term: {'-0.6', \"'at\", \"'bankrupt\", \"'give\", '+12.8', \"'87\", \"'growth\", \"'re\", \"'event\", '+2.8'}\n",
            "Intersection between Word2Vec similar words and cluster words: set()\n",
            "Most frequent term: '87/88\n",
            "Similar words from Word2Vec: {'memphi', 'sandbank', 'amp', '795,522', 'unaffili', 'satellit', '17.71', 'winston', 'bork', 'pep', 'shaalan', 'rental', 'cr', 'multius', 'theater', 'cellular', 'interwest', 'skate', 'franz', '4.500', 'adhes', 'fungal', 'octano', 'blue', 'juan', 'schn.pa', 'trecker', 'reloc', '1,284.50', 'president-elect', 'detroit', 'equi', 'planter', 'franchis', 'electro', 'owens-corn', 'cpl', 'hydro', 'overlook', 'infortext', 'jenrett', 'd-mont', 'trademark', 'hot-rol', 'pendleton', '1912', '18.51', 'to-fit', 'ariz.', 'curti'}\n",
            "Words in the cluster of the most frequent term: {'-daimler-puch', \"'87/88\", '.000', \"'at\", '-base', '-6.3', \"'d\", '-radiat', \"'87\", '+2.4'}\n",
            "Intersection between Word2Vec similar words and cluster words: set()\n",
            "Most frequent term: '87\n",
            "Similar words from Word2Vec: {'ari', 'suzann', 'loss-mak', 'reddaway', 'dept', '862,500', '34.125', 'indentifi', 'wound', '72,203', 'rhetor', '148.50', 'gottesman', 'thompson', 'frankfurt', 'uiie', 'short-rang', 'oppon', 'h.c.', '5,940,000', '3.15', 'toe', 'frustrat', '517', 'rri', 'masaji', '52,409', '631.6', 'survivor', 'nahum', '738', '10.26', 'avp', 'chri', 'excelso', '97-13/32', '..........................................', 'counselor', '59,430', 'beginn', 'c.f', 'anwar', 'ortner', 'egyptian', '24.98', '18,467', 'three-judg', 'g-6', 'mo.', '2,336,000'}\n",
            "Words in the cluster of the most frequent term: {'-0.6', \"'at\", \"'bankrupt\", \"'give\", '+12.8', \"'87\", \"'growth\", \"'re\", \"'event\", '+2.8'}\n",
            "Intersection between Word2Vec similar words and cluster words: set()\n",
            "Most frequent term: '87\n",
            "Similar words from Word2Vec: {'ari', 'suzann', 'loss-mak', 'reddaway', 'dept', '862,500', '34.125', 'indentifi', 'wound', '72,203', 'rhetor', '148.50', 'gottesman', 'thompson', 'frankfurt', 'uiie', 'short-rang', 'oppon', 'h.c.', '5,940,000', '3.15', 'toe', 'frustrat', '517', 'rri', 'masaji', '52,409', '631.6', 'survivor', 'nahum', '738', '10.26', 'avp', 'chri', 'excelso', '97-13/32', '..........................................', 'counselor', '59,430', 'beginn', 'c.f', 'anwar', 'ortner', 'egyptian', '24.98', '18,467', 'three-judg', 'g-6', 'mo.', '2,336,000'}\n",
            "Words in the cluster of the most frequent term: {'-0.6', \"'at\", \"'bankrupt\", \"'give\", '+12.8', \"'87\", \"'growth\", \"'re\", \"'event\", '+2.8'}\n",
            "Intersection between Word2Vec similar words and cluster words: set()\n",
            "Most frequent term: '87\n",
            "Similar words from Word2Vec: {'ari', 'suzann', 'loss-mak', 'reddaway', 'dept', '862,500', '34.125', 'indentifi', 'wound', '72,203', 'rhetor', '148.50', 'gottesman', 'thompson', 'frankfurt', 'uiie', 'short-rang', 'oppon', 'h.c.', '5,940,000', '3.15', 'toe', 'frustrat', '517', 'rri', 'masaji', '52,409', '631.6', 'survivor', 'nahum', '738', '10.26', 'avp', 'chri', 'excelso', '97-13/32', '..........................................', 'counselor', '59,430', 'beginn', 'c.f', 'anwar', 'ortner', 'egyptian', '24.98', '18,467', 'three-judg', 'g-6', 'mo.', '2,336,000'}\n",
            "Words in the cluster of the most frequent term: {'-0.6', \"'at\", \"'bankrupt\", \"'give\", '+12.8', \"'87\", \"'growth\", \"'re\", \"'event\", '+2.8'}\n",
            "Intersection between Word2Vec similar words and cluster words: set()\n",
            "Most frequent term: 'we\n",
            "Similar words from Word2Vec: {'4,572,000', 'two-prong', 'foothold', 'provid', 'democratic-l', 'somphol', 'law', 'tune', 'palmer', 'spot-next', 'overlap', '1,084', 'cnsp', 'crownamerica', 'flak', '149.60', 'maxtor', 'tirework', 'compositair', 'clausen', '738.3', 'waseda', 'notimex', '85,198,853', 'prerequisit', '4,435,000', 'ameritech', 'junk', 'nhsb', 'impend', 'iraq-turkey', 'portsmouth', 'wkxc-am', '1,620,000', '157.60', 'treasuri', 'hand-to-mouth', 'bkla', '58.4', 'nonpubl', 'market-ori', 'doldrum', 'mad', 'dlrs.', '856', 'voter', '17.05', 'sssv', 'corpor', 'bill'}\n",
            "Words in the cluster of the most frequent term: {\"'sourc\", \"'sugarcan\", \"'d\", \"'s\", \"'no\", '+10.1', \"'protection\", \"'87\", \"'take\", \"'we\"}\n",
            "Intersection between Word2Vec similar words and cluster words: set()\n",
            "Most frequent term: '87/88\n",
            "Similar words from Word2Vec: {'memphi', 'sandbank', 'amp', '795,522', 'unaffili', 'satellit', '17.71', 'winston', 'bork', 'pep', 'shaalan', 'rental', 'cr', 'multius', 'theater', 'cellular', 'interwest', 'skate', 'franz', '4.500', 'adhes', 'fungal', 'octano', 'blue', 'juan', 'schn.pa', 'trecker', 'reloc', '1,284.50', 'president-elect', 'detroit', 'equi', 'planter', 'franchis', 'electro', 'owens-corn', 'cpl', 'hydro', 'overlook', 'infortext', 'jenrett', 'd-mont', 'trademark', 'hot-rol', 'pendleton', '1912', '18.51', 'to-fit', 'ariz.', 'curti'}\n",
            "Words in the cluster of the most frequent term: {'-daimler-puch', \"'87/88\", '.000', \"'at\", '-base', '-6.3', \"'d\", '-radiat', \"'87\", '+2.4'}\n",
            "Intersection between Word2Vec similar words and cluster words: set()\n",
            "Most frequent term: 'at\n",
            "Similar words from Word2Vec: {\"friday'\", '320,057', 'calmar', 'subject', 'usm', '8,866', 'offer', 'spillman', 'addit', '3,166,000', 'usair', 'pl-480', '19,488,587', 'neglig', '172.8', '319,588', 'takeov', '9,163,141', '0.55', 'authroiz', 'bid', '1,788,406', 'suc', 'prepay', 'ri', 'bwa', 'peugeot', 'previous', 'messidor', 'issuabl', 'alternaitcv', 'all-cash', '14.25', 'pathogen', 'unitel', 'solicit', 'twa', 'gencorp', 'crr', 'alf', 'gesamtmetal', 'receiv', '630', 'kiatpaiboon', 'forthcom', 'partially-ori', 'right', 'c.o.m.b.', 'consumm', 'entangl'}\n",
            "Words in the cluster of the most frequent term: {'-0.6', \"'at\", \"'bankrupt\", \"'give\", '+12.8', \"'87\", \"'growth\", \"'re\", \"'event\", '+2.8'}\n",
            "Intersection between Word2Vec similar words and cluster words: set()\n",
            "Most frequent term: '87/88\n",
            "Similar words from Word2Vec: {'memphi', 'sandbank', 'amp', '795,522', 'unaffili', 'satellit', '17.71', 'winston', 'bork', 'pep', 'shaalan', 'rental', 'cr', 'multius', 'theater', 'cellular', 'interwest', 'skate', 'franz', '4.500', 'adhes', 'fungal', 'octano', 'blue', 'juan', 'schn.pa', 'trecker', 'reloc', '1,284.50', 'president-elect', 'detroit', 'equi', 'planter', 'franchis', 'electro', 'owens-corn', 'cpl', 'hydro', 'overlook', 'infortext', 'jenrett', 'd-mont', 'trademark', 'hot-rol', 'pendleton', '1912', '18.51', 'to-fit', 'ariz.', 'curti'}\n",
            "Words in the cluster of the most frequent term: {'-daimler-puch', \"'87/88\", '.000', \"'at\", '-base', '-6.3', \"'d\", '-radiat', \"'87\", '+2.4'}\n",
            "Intersection between Word2Vec similar words and cluster words: set()\n",
            "Most frequent term: '87/88\n",
            "Similar words from Word2Vec: {'memphi', 'sandbank', 'amp', '795,522', 'unaffili', 'satellit', '17.71', 'winston', 'bork', 'pep', 'shaalan', 'rental', 'cr', 'multius', 'theater', 'cellular', 'interwest', 'skate', 'franz', '4.500', 'adhes', 'fungal', 'octano', 'blue', 'juan', 'schn.pa', 'trecker', 'reloc', '1,284.50', 'president-elect', 'detroit', 'equi', 'planter', 'franchis', 'electro', 'owens-corn', 'cpl', 'hydro', 'overlook', 'infortext', 'jenrett', 'd-mont', 'trademark', 'hot-rol', 'pendleton', '1912', '18.51', 'to-fit', 'ariz.', 'curti'}\n",
            "Words in the cluster of the most frequent term: {'-daimler-puch', \"'87/88\", '.000', \"'at\", '-base', '-6.3', \"'d\", '-radiat', \"'87\", '+2.4'}\n",
            "Intersection between Word2Vec similar words and cluster words: set()\n",
            "Most frequent term: 'at\n",
            "Similar words from Word2Vec: {\"friday'\", '320,057', 'calmar', 'subject', 'usm', '8,866', 'offer', 'spillman', 'addit', '3,166,000', 'usair', 'pl-480', '19,488,587', 'neglig', '172.8', '319,588', 'takeov', '9,163,141', '0.55', 'authroiz', 'bid', '1,788,406', 'suc', 'prepay', 'ri', 'bwa', 'peugeot', 'previous', 'messidor', 'issuabl', 'alternaitcv', 'all-cash', '14.25', 'pathogen', 'unitel', 'solicit', 'twa', 'gencorp', 'crr', 'alf', 'gesamtmetal', 'receiv', '630', 'kiatpaiboon', 'forthcom', 'partially-ori', 'right', 'c.o.m.b.', 'consumm', 'entangl'}\n",
            "Words in the cluster of the most frequent term: {'-0.6', \"'at\", \"'bankrupt\", \"'give\", '+12.8', \"'87\", \"'growth\", \"'re\", \"'event\", '+2.8'}\n",
            "Intersection between Word2Vec similar words and cluster words: set()\n",
            "Most frequent term: 'bankrupt\n",
            "Similar words from Word2Vec: {'al.n', 'ru', 'attrib', 'gainer', '823,988', 'rcp', 'shafi', 'steel-structur', 'brandman', 'freeman-ow', '40,500', '863,000.', '290.55p', '3,342,0000', '1986-1990', '17,800', '885.2', '50.31p', 'salg.h', 'siaahan', 'pyro', '61.2', \"bancorp'\", 'cashflow', '109,131', 'joaquin', '298,412', '28,045', 'greek-bas', 'sleev', 'renato', '1,422,000', '6,846,000', 'strasbourg', 'feng', '276.8', 'commmod', 'jeremi', 'heed', '4,837,000', '480p', 'martket', 'tok', 'pao', '3,479,744', '42.2p', 'barlett', 'decln', 'laid-up', 'burnet'}\n",
            "Words in the cluster of the most frequent term: {'-0.6', \"'at\", \"'bankrupt\", \"'give\", '+12.8', \"'87\", \"'growth\", \"'re\", \"'event\", '+2.8'}\n",
            "Intersection between Word2Vec similar words and cluster words: set()\n",
            "Most frequent term: -ivori\n",
            "Similar words from Word2Vec: {'one-billion-canadian-dlr', 'ozark', '3400', 'f.e', '16:46:14.77', 'seguel', 'roubati', 'packer', 'goodman', 'medar', 'amn', '323.6', 'deplor', 'ito', 'ware', 'hajim', '2,008.', 'panin', 'solomon', '142,010', 'digest', 'zverev', 'oscar', 'eralp', '1,397.0', 'fast-chang', '38,678', '2,525,677', 'vice-foreign', '3.51', 'desi', 'clearcut', 'ame', '1995.', 'e.a', 'jeffrey', 'misunderstood', 'ind.', 'speed-o-print', 'pipe-mak', 'afp', 'govett', 'vaskevitch', 'frederick', 'cebeco-handelsraad', 'chemistri', 'vinyl', 'wer', 'constantin', '1,825'}\n",
            "Words in the cluster of the most frequent term: {'..', '-daimler-puch', \"'87/88\", '-franc', '-micropro', '+5.6', '-ivori', '.029', '+12.5', '+10.1'}\n",
            "Intersection between Word2Vec similar words and cluster words: set()\n",
            "Most frequent term: '87/88\n",
            "Similar words from Word2Vec: {'memphi', 'sandbank', 'amp', '795,522', 'unaffili', 'satellit', '17.71', 'winston', 'bork', 'pep', 'shaalan', 'rental', 'cr', 'multius', 'theater', 'cellular', 'interwest', 'skate', 'franz', '4.500', 'adhes', 'fungal', 'octano', 'blue', 'juan', 'schn.pa', 'trecker', 'reloc', '1,284.50', 'president-elect', 'detroit', 'equi', 'planter', 'franchis', 'electro', 'owens-corn', 'cpl', 'hydro', 'overlook', 'infortext', 'jenrett', 'd-mont', 'trademark', 'hot-rol', 'pendleton', '1912', '18.51', 'to-fit', 'ariz.', 'curti'}\n",
            "Words in the cluster of the most frequent term: {'-daimler-puch', \"'87/88\", '.000', \"'at\", '-base', '-6.3', \"'d\", '-radiat', \"'87\", '+2.4'}\n",
            "Intersection between Word2Vec similar words and cluster words: set()\n",
            "Most frequent term: '87\n",
            "Similar words from Word2Vec: {'ari', 'suzann', 'loss-mak', 'reddaway', 'dept', '862,500', '34.125', 'indentifi', 'wound', '72,203', 'rhetor', '148.50', 'gottesman', 'thompson', 'frankfurt', 'uiie', 'short-rang', 'oppon', 'h.c.', '5,940,000', '3.15', 'toe', 'frustrat', '517', 'rri', 'masaji', '52,409', '631.6', 'survivor', 'nahum', '738', '10.26', 'avp', 'chri', 'excelso', '97-13/32', '..........................................', 'counselor', '59,430', 'beginn', 'c.f', 'anwar', 'ortner', 'egyptian', '24.98', '18,467', 'three-judg', 'g-6', 'mo.', '2,336,000'}\n",
            "Words in the cluster of the most frequent term: {'-0.6', \"'at\", \"'bankrupt\", \"'give\", '+12.8', \"'87\", \"'growth\", \"'re\", \"'event\", '+2.8'}\n",
            "Intersection between Word2Vec similar words and cluster words: set()\n",
            "Most frequent term: 'growth\n",
            "Similar words from Word2Vec: {'legendari', 'imposs', 'disaster', 'sprint', 'uptrend', 'element', 'foresaw', 'kramer', 'aranibar', '2-3/8', 'floraki', 'minut', 'basic', 'zaki', 'state-by-st', 'wisenbak', 'wait', 'ssc', 'inf', 'macomson', 'indefinit', 'outcom', 'meantim', 'mid-1988', 'echo', 'hoc', 'seam', 'mayb', 'chp', 'depriv', 'joao', 'schoenheim', 'in-wel', 'rebuff', 'disastr', '82-88', 'accompani', 'koji', 'istanbul', 'rale', 'rankin', 'sit', 'seidman', 'co-chairman', 'glesk', 'mediocr', '14,289', 'summit', 'hargreav', 'refinanc'}\n",
            "Words in the cluster of the most frequent term: {'-0.6', \"'at\", \"'bankrupt\", \"'give\", '+12.8', \"'87\", \"'growth\", \"'re\", \"'event\", '+2.8'}\n",
            "Intersection between Word2Vec similar words and cluster words: set()\n",
            "Most frequent term: +10.1\n",
            "Similar words from Word2Vec: {'sulphur', 'paranavai', '161', 'mozambiqu', 'wti', '17.9', '1.495', 'plate', '20.50', 'gldc', 'parana', 'petrol', 'jinfeng', '123', 'pda', 'kina', '24,516', 'electrolyt', '...........', 'hollywood', '20.25', 'cruz', '65.7', 'mokha', '7,600,000', '22.26', '2.85', 'kernel', 'warrington', 'greas', 'low-alloy', 'sulfur', '3,700', '1-1/2', 'sweet', 'thick', 'cravo', '16.31', '110', 'gold/platinum', 'masaharu', 'dubai', 'alumina', '19.16', '10/june', 'butan', 'sunmeal', 'h-pile', 'yarn', 'dlrs/bbl'}\n",
            "Words in the cluster of the most frequent term: {\"'sourc\", \"'sugarcan\", \"'d\", \"'s\", \"'no\", '+10.1', \"'protection\", \"'87\", \"'take\", \"'we\"}\n",
            "Intersection between Word2Vec similar words and cluster words: set()\n",
            "Most frequent term: 'sugarcan\n",
            "Similar words from Word2Vec: {'bf', '9,850,000', 'comterm', 'further', 'allergan', 'aluminimum', '1,490,718', '131.06', '70.50', 'nickl', '357', 'ndsn', 't.n.', 'dunbar', '16,701,000', '10-25', 'piog', '835,000', 'solomec', 'debenur', '536,000', 'rotari', '892,323', '85.8', 'indent', 'lwi', 'rgo', '215,000', 'june-august', 'rban', 'riedel', 'rf', 'enka', '184.55', 'libr', 'adjustm', '864,000', 'd-iowa', '6.50.', 'prncipl', 'bci', 'italian-soviet', 'auergesellschaft', 'south-easterli', 'herstal', '22.69', '1,140,270', 'acreas', '1,491,590', '421.5'}\n",
            "Words in the cluster of the most frequent term: {\"'sourc\", \"'sugarcan\", \"'d\", \"'s\", \"'no\", '+10.1', \"'protection\", \"'87\", \"'take\", \"'we\"}\n",
            "Intersection between Word2Vec similar words and cluster words: set()\n",
            "Most frequent term: '87/88\n",
            "Similar words from Word2Vec: {'memphi', 'sandbank', 'amp', '795,522', 'unaffili', 'satellit', '17.71', 'winston', 'bork', 'pep', 'shaalan', 'rental', 'cr', 'multius', 'theater', 'cellular', 'interwest', 'skate', 'franz', '4.500', 'adhes', 'fungal', 'octano', 'blue', 'juan', 'schn.pa', 'trecker', 'reloc', '1,284.50', 'president-elect', 'detroit', 'equi', 'planter', 'franchis', 'electro', 'owens-corn', 'cpl', 'hydro', 'overlook', 'infortext', 'jenrett', 'd-mont', 'trademark', 'hot-rol', 'pendleton', '1912', '18.51', 'to-fit', 'ariz.', 'curti'}\n",
            "Words in the cluster of the most frequent term: {'-daimler-puch', \"'87/88\", '.000', \"'at\", '-base', '-6.3', \"'d\", '-radiat', \"'87\", '+2.4'}\n",
            "Intersection between Word2Vec similar words and cluster words: set()\n",
            "Most frequent term: -11.7\n",
            "Similar words from Word2Vec: {'27.18', '9-1/2', 'damage-diplomat', 'txt', '819p', '1,232,200', 'public', 'debt', '98.10', 'remit', '1,563,000', 'thl', '1,331,739', 'bring', '279.085', 'repay', '4.47', 'requir', '1.2480.', 'con', 'current', 'borrow', '126.4', 'libor', '50.5', 'sideway', '68.6', '161,019', 'long-term', '326.5', 'point/caesar', '192,710', '501', '90-day', 'understandng', 'fix', '1.995', 'bellet', 'bond', 'berkley', 'fund', '8,294,000', 'cd', '14,600', '5.12', '220,911', '261,300', 'countercycl', '133.0', 'unamort'}\n",
            "Words in the cluster of the most frequent term: {'-daimler-puch', '-laval', \"'teishoku\", \"'let\", '+5.6', \"'bankrupt\", '-8.7', '-11.7', \"'87\", '+1.8'}\n",
            "Intersection between Word2Vec similar words and cluster words: set()\n",
            "Most frequent term: 're\n",
            "Similar words from Word2Vec: {'``', 'proper', 'iida', 'lot', 'want', \"'ll\", 'obvious', 'long', 'sort', 'feel', 'wo', 'abl', 'absolut', 'thing', 'ca', \"'ve\", 'believ', 'done', 'someth', 'seem', 'look', 'quickli', 'persh', 'attract', 'certainli', 'optimist', \"n't\", 'nice', 'peopl', 'desir', 'alway', 'chanc', 'happen', 'know', 'realli', 'simpli', '...', 'quit', 'anyth', 'think', 'genuin', 'pretti', 'gone', 'cours', 'other', 'someon', 'sure', 'go', 'situat', 'legitim'}\n",
            "Words in the cluster of the most frequent term: {'-0.6', \"'at\", \"'bankrupt\", \"'give\", '+12.8', \"'87\", \"'growth\", \"'re\", \"'event\", '+2.8'}\n",
            "Intersection between Word2Vec similar words and cluster words: set()\n",
            "Most frequent term: '87/88\n",
            "Similar words from Word2Vec: {'memphi', 'sandbank', 'amp', '795,522', 'unaffili', 'satellit', '17.71', 'winston', 'bork', 'pep', 'shaalan', 'rental', 'cr', 'multius', 'theater', 'cellular', 'interwest', 'skate', 'franz', '4.500', 'adhes', 'fungal', 'octano', 'blue', 'juan', 'schn.pa', 'trecker', 'reloc', '1,284.50', 'president-elect', 'detroit', 'equi', 'planter', 'franchis', 'electro', 'owens-corn', 'cpl', 'hydro', 'overlook', 'infortext', 'jenrett', 'd-mont', 'trademark', 'hot-rol', 'pendleton', '1912', '18.51', 'to-fit', 'ariz.', 'curti'}\n",
            "Words in the cluster of the most frequent term: {'-daimler-puch', \"'87/88\", '.000', \"'at\", '-base', '-6.3', \"'d\", '-radiat', \"'87\", '+2.4'}\n",
            "Intersection between Word2Vec similar words and cluster words: set()\n",
            "Most frequent term: 'll\n",
            "Similar words from Word2Vec: {'proper', 'iida', 'lot', 'immin', 'extrem', 'obvious', 'noth', 'otherwis', 'sort', 'feel', 'wo', 'protection', 'absolut', 'thing', \"'m\", 'away', 'ca', \"'ve\", \"'re\", 'done', 'someth', 'seem', 'clearli', 'look', 'alarm', 'wish', 'optimist', 'certainli', 'shall', \"n't\", 'convinc', 'peopl', 'wors', 'alway', 'chanc', 'happen', 'know', 'realli', 'simpli', '...', 'quit', 'anyth', 'think', 'pretti', 'cours', 'other', 'sure', 'situat', 'seriou', 'cautiou'}\n",
            "Words in the cluster of the most frequent term: {\"'n\", \"'the\", \"'ll\", \"'old\", \"'give\", \"'protection\", \"'87\", \"'liber\", \"'event\", '+bahia'}\n",
            "Intersection between Word2Vec similar words and cluster words: set()\n",
            "Most frequent term: '87/88\n",
            "Similar words from Word2Vec: {'memphi', 'sandbank', 'amp', '795,522', 'unaffili', 'satellit', '17.71', 'winston', 'bork', 'pep', 'shaalan', 'rental', 'cr', 'multius', 'theater', 'cellular', 'interwest', 'skate', 'franz', '4.500', 'adhes', 'fungal', 'octano', 'blue', 'juan', 'schn.pa', 'trecker', 'reloc', '1,284.50', 'president-elect', 'detroit', 'equi', 'planter', 'franchis', 'electro', 'owens-corn', 'cpl', 'hydro', 'overlook', 'infortext', 'jenrett', 'd-mont', 'trademark', 'hot-rol', 'pendleton', '1912', '18.51', 'to-fit', 'ariz.', 'curti'}\n",
            "Words in the cluster of the most frequent term: {'-daimler-puch', \"'87/88\", '.000', \"'at\", '-base', '-6.3', \"'d\", '-radiat', \"'87\", '+2.4'}\n",
            "Intersection between Word2Vec similar words and cluster words: set()\n",
            "Most frequent term: '87/88\n",
            "Similar words from Word2Vec: {'memphi', 'sandbank', 'amp', '795,522', 'unaffili', 'satellit', '17.71', 'winston', 'bork', 'pep', 'shaalan', 'rental', 'cr', 'multius', 'theater', 'cellular', 'interwest', 'skate', 'franz', '4.500', 'adhes', 'fungal', 'octano', 'blue', 'juan', 'schn.pa', 'trecker', 'reloc', '1,284.50', 'president-elect', 'detroit', 'equi', 'planter', 'franchis', 'electro', 'owens-corn', 'cpl', 'hydro', 'overlook', 'infortext', 'jenrett', 'd-mont', 'trademark', 'hot-rol', 'pendleton', '1912', '18.51', 'to-fit', 'ariz.', 'curti'}\n",
            "Words in the cluster of the most frequent term: {'-daimler-puch', \"'87/88\", '.000', \"'at\", '-base', '-6.3', \"'d\", '-radiat', \"'87\", '+2.4'}\n",
            "Intersection between Word2Vec similar words and cluster words: set()\n",
            "Most frequent term: +9.8\n",
            "Similar words from Word2Vec: {'7,737', 'surat', 'jason', 'afobaka', 'bolt', '130.4', '987', 'tend', 'worthi', '147', '205,700', 'dramat', '222.22', 'bulgaria', '267', 'cleanup', 'retreat', 'asscess', '839', 'pmt', 'bearish', 'perkin-elm', 'markey', 'godfrey', 'light-grad', 'free-trad', '96-7/32', 'ring', 'fall-out', 'wisdom', 'downsid', 'metallurg', '158,400', '392', '3,647', 'kaakebeen', '441.5', 're-ent', '2,021,000', '24-1/2', 'necessit', 'thaw', 'angina', 'depreci', '432.7p', 'relev', '160.8', 'dollar/trad', '164,243', 'roch'}\n",
            "Words in the cluster of the most frequent term: {\"'target\", \"'87/88\", \"'the\", \"'d\", \"'let\", \"'s\", ',100', '+7.7', '+12.8', '+9.8'}\n",
            "Intersection between Word2Vec similar words and cluster words: set()\n",
            "Most frequent term: '87/88\n",
            "Similar words from Word2Vec: {'memphi', 'sandbank', 'amp', '795,522', 'unaffili', 'satellit', '17.71', 'winston', 'bork', 'pep', 'shaalan', 'rental', 'cr', 'multius', 'theater', 'cellular', 'interwest', 'skate', 'franz', '4.500', 'adhes', 'fungal', 'octano', 'blue', 'juan', 'schn.pa', 'trecker', 'reloc', '1,284.50', 'president-elect', 'detroit', 'equi', 'planter', 'franchis', 'electro', 'owens-corn', 'cpl', 'hydro', 'overlook', 'infortext', 'jenrett', 'd-mont', 'trademark', 'hot-rol', 'pendleton', '1912', '18.51', 'to-fit', 'ariz.', 'curti'}\n",
            "Words in the cluster of the most frequent term: {'-daimler-puch', \"'87/88\", '.000', \"'at\", '-base', '-6.3', \"'d\", '-radiat', \"'87\", '+2.4'}\n",
            "Intersection between Word2Vec similar words and cluster words: set()\n",
            "Most frequent term: 're\n",
            "Similar words from Word2Vec: {'``', 'proper', 'iida', 'lot', 'want', \"'ll\", 'obvious', 'long', 'sort', 'feel', 'wo', 'abl', 'absolut', 'thing', 'ca', \"'ve\", 'believ', 'done', 'someth', 'seem', 'look', 'quickli', 'persh', 'attract', 'certainli', 'optimist', \"n't\", 'nice', 'peopl', 'desir', 'alway', 'chanc', 'happen', 'know', 'realli', 'simpli', '...', 'quit', 'anyth', 'think', 'genuin', 'pretti', 'gone', 'cours', 'other', 'someon', 'sure', 'go', 'situat', 'legitim'}\n",
            "Words in the cluster of the most frequent term: {'-0.6', \"'at\", \"'bankrupt\", \"'give\", '+12.8', \"'87\", \"'growth\", \"'re\", \"'event\", '+2.8'}\n",
            "Intersection between Word2Vec similar words and cluster words: set()\n",
            "Most frequent term: 'give\n",
            "Similar words from Word2Vec: {'rene', 'trinidad-tobago', 'iraqi', 'state-run', 'tagamet', 'dhabi', 'asean', 'hunger', '2,234,049', '14-year-old', 'fernando', 'forsakr', 'wisenbak', 'slm', 'strand', '683,400', 'congest', 'hawaiian', 'hernandez', 'kuroda', 'dst', 'in-wel', 'frazier', 'two-day', 'jorg', '82-88', 'iri', 'alvit', 'nise', 'aerosol', 'turkish', 'dissatisfi', 'gilberto', 'sack', 'capsiz', 'elev', 'ahm', 'semi-govern', 'notifi', '18,367', 'elb', 'weston', 'funer', '27,900', 'valeri', 'king', 'long-stand', 'jerom', 'feeder', 'aqazadeh'}\n",
            "Words in the cluster of the most frequent term: {'-0.6', \"'at\", \"'bankrupt\", \"'give\", '+12.8', \"'87\", \"'growth\", \"'re\", \"'event\", '+2.8'}\n",
            "Intersection between Word2Vec similar words and cluster words: set()\n",
            "Most frequent term: 'bankrupt\n",
            "Similar words from Word2Vec: {'al.n', 'ru', 'attrib', 'gainer', '823,988', 'rcp', 'shafi', 'steel-structur', 'brandman', 'freeman-ow', '40,500', '863,000.', '290.55p', '3,342,0000', '1986-1990', '17,800', '885.2', '50.31p', 'salg.h', 'siaahan', 'pyro', '61.2', \"bancorp'\", 'cashflow', '109,131', 'joaquin', '298,412', '28,045', 'greek-bas', 'sleev', 'renato', '1,422,000', '6,846,000', 'strasbourg', 'feng', '276.8', 'commmod', 'jeremi', 'heed', '4,837,000', '480p', 'martket', 'tok', 'pao', '3,479,744', '42.2p', 'barlett', 'decln', 'laid-up', 'burnet'}\n",
            "Words in the cluster of the most frequent term: {'-0.6', \"'at\", \"'bankrupt\", \"'give\", '+12.8', \"'87\", \"'growth\", \"'re\", \"'event\", '+2.8'}\n",
            "Intersection between Word2Vec similar words and cluster words: set()\n",
            "Most frequent term: '87/88\n",
            "Similar words from Word2Vec: {'memphi', 'sandbank', 'amp', '795,522', 'unaffili', 'satellit', '17.71', 'winston', 'bork', 'pep', 'shaalan', 'rental', 'cr', 'multius', 'theater', 'cellular', 'interwest', 'skate', 'franz', '4.500', 'adhes', 'fungal', 'octano', 'blue', 'juan', 'schn.pa', 'trecker', 'reloc', '1,284.50', 'president-elect', 'detroit', 'equi', 'planter', 'franchis', 'electro', 'owens-corn', 'cpl', 'hydro', 'overlook', 'infortext', 'jenrett', 'd-mont', 'trademark', 'hot-rol', 'pendleton', '1912', '18.51', 'to-fit', 'ariz.', 'curti'}\n",
            "Words in the cluster of the most frequent term: {'-daimler-puch', \"'87/88\", '.000', \"'at\", '-base', '-6.3', \"'d\", '-radiat', \"'87\", '+2.4'}\n",
            "Intersection between Word2Vec similar words and cluster words: set()\n",
            "Most frequent term: '87/88\n",
            "Similar words from Word2Vec: {'memphi', 'sandbank', 'amp', '795,522', 'unaffili', 'satellit', '17.71', 'winston', 'bork', 'pep', 'shaalan', 'rental', 'cr', 'multius', 'theater', 'cellular', 'interwest', 'skate', 'franz', '4.500', 'adhes', 'fungal', 'octano', 'blue', 'juan', 'schn.pa', 'trecker', 'reloc', '1,284.50', 'president-elect', 'detroit', 'equi', 'planter', 'franchis', 'electro', 'owens-corn', 'cpl', 'hydro', 'overlook', 'infortext', 'jenrett', 'd-mont', 'trademark', 'hot-rol', 'pendleton', '1912', '18.51', 'to-fit', 'ariz.', 'curti'}\n",
            "Words in the cluster of the most frequent term: {'-daimler-puch', \"'87/88\", '.000', \"'at\", '-base', '-6.3', \"'d\", '-radiat', \"'87\", '+2.4'}\n",
            "Intersection between Word2Vec similar words and cluster words: set()\n",
            "Most frequent term: -1.10\n",
            "Similar words from Word2Vec: {'death', 'thou', '4,345', '987', 'usda/noaa', '94,900', '160,160', 'yulo', '123,000', 'dead', 'bracket', 'newer', 'temporao', '4,500', 'insect', '2.500', 'pastur', 'branco', 'czarnikow', 'ax', '218,000', 'mij', 'tornado', '2,444,260', 'burgess', 'belgium/luxembourg', 'peasant', '6,604,000', 'lighter', '1992', '922.4', '71.8', 'jauppi', '1982.', 'sorghum', 'tast', 'hog', '17.25', '6,058', '0830', 'angola', 'feedlot', 'guess', 'simao', 'sunflow', 'slaughter', 'restitut', 'windi', 'bale', 'gem'}\n",
            "Words in the cluster of the most frequent term: {\"'n\", '-10.4', \"'87/88\", '-1.10', \"'d\", \"'bankrupt\", \"'87\", \"'growth\", \"'liber\", \"'event\"}\n",
            "Intersection between Word2Vec similar words and cluster words: set()\n",
            "Most frequent term: -offici\n",
            "Similar words from Word2Vec: {'primari', 'sulphur', '3.78', 'm1', '2.2', 'cpo', '195', '2.1', '1.2', 'siphon', '980,000', '8.2', '1.83', 'fell', '375', '950,000', '1.6', '0.3', 'trillion', '5.70', 'equival', '24,516', '188', 'minu', 'ringgit', 'risen', '3.0', 'deflat', '3.20', '22.50', '109', '140,000', '1.0', '8.8', '50.76', 'million', '1.317', '5-5/16', 'dubai', '86,959', '1995', '261', '3.2', '8.9', '846.90.', 'roughli', 'trim', '7.3', 'stood', '4.2'}\n",
            "Words in the cluster of the most frequent term: {'-offici', '-minist', '..', \"'87/88\", \"'d\", \"'s\", '-radiat', \"'the\", '+12.8', '-137'}\n",
            "Intersection between Word2Vec similar words and cluster words: set()\n",
            "Most frequent term: '87/88\n",
            "Similar words from Word2Vec: {'memphi', 'sandbank', 'amp', '795,522', 'unaffili', 'satellit', '17.71', 'winston', 'bork', 'pep', 'shaalan', 'rental', 'cr', 'multius', 'theater', 'cellular', 'interwest', 'skate', 'franz', '4.500', 'adhes', 'fungal', 'octano', 'blue', 'juan', 'schn.pa', 'trecker', 'reloc', '1,284.50', 'president-elect', 'detroit', 'equi', 'planter', 'franchis', 'electro', 'owens-corn', 'cpl', 'hydro', 'overlook', 'infortext', 'jenrett', 'd-mont', 'trademark', 'hot-rol', 'pendleton', '1912', '18.51', 'to-fit', 'ariz.', 'curti'}\n",
            "Words in the cluster of the most frequent term: {'-daimler-puch', \"'87/88\", '.000', \"'at\", '-base', '-6.3', \"'d\", '-radiat', \"'87\", '+2.4'}\n",
            "Intersection between Word2Vec similar words and cluster words: set()\n",
            "Most frequent term: 'give\n",
            "Similar words from Word2Vec: {'rene', 'trinidad-tobago', 'iraqi', 'state-run', 'tagamet', 'dhabi', 'asean', 'hunger', '2,234,049', '14-year-old', 'fernando', 'forsakr', 'wisenbak', 'slm', 'strand', '683,400', 'congest', 'hawaiian', 'hernandez', 'kuroda', 'dst', 'in-wel', 'frazier', 'two-day', 'jorg', '82-88', 'iri', 'alvit', 'nise', 'aerosol', 'turkish', 'dissatisfi', 'gilberto', 'sack', 'capsiz', 'elev', 'ahm', 'semi-govern', 'notifi', '18,367', 'elb', 'weston', 'funer', '27,900', 'valeri', 'king', 'long-stand', 'jerom', 'feeder', 'aqazadeh'}\n",
            "Words in the cluster of the most frequent term: {'-0.6', \"'at\", \"'bankrupt\", \"'give\", '+12.8', \"'87\", \"'growth\", \"'re\", \"'event\", '+2.8'}\n",
            "Intersection between Word2Vec similar words and cluster words: set()\n",
            "Most frequent term: -base\n",
            "Similar words from Word2Vec: {'sca', 'collieri', 'quan', 'incorp', '40.7', 'subsystem', 'tmo', '1,627,603-share', '2,879,000', 'patrol', 'm.n', 'tgt', '1,863,000', 'aet', 'robertson', '8.65', 'subtract', 'maxx', 'asssoci', 'grind', 'rci', 'asbesto', 'unpat', '7-13/16', '233,641', 'matabeleland', '212.75', 'trecker', 'hardjoko', '215,821', '102,564,000', 'coulson', '0.56', '665,000', 'riedel', 'nbc', 'viratek', 'perth', \"d'electricit\", 'equinox', 'cronu', 'strathcona', 'eric.st.', '3,717,794', 'foresak', 'acccord', 'mullikin', 'd.i', 'ald', 'n.h.'}\n",
            "Words in the cluster of the most frequent term: {'-daimler-puch', \"'87/88\", '.000', \"'at\", '-base', '-6.3', \"'d\", '-radiat', \"'87\", '+2.4'}\n",
            "Intersection between Word2Vec similar words and cluster words: set()\n",
            "Most frequent term: '87/88\n",
            "Similar words from Word2Vec: {'memphi', 'sandbank', 'amp', '795,522', 'unaffili', 'satellit', '17.71', 'winston', 'bork', 'pep', 'shaalan', 'rental', 'cr', 'multius', 'theater', 'cellular', 'interwest', 'skate', 'franz', '4.500', 'adhes', 'fungal', 'octano', 'blue', 'juan', 'schn.pa', 'trecker', 'reloc', '1,284.50', 'president-elect', 'detroit', 'equi', 'planter', 'franchis', 'electro', 'owens-corn', 'cpl', 'hydro', 'overlook', 'infortext', 'jenrett', 'd-mont', 'trademark', 'hot-rol', 'pendleton', '1912', '18.51', 'to-fit', 'ariz.', 'curti'}\n",
            "Words in the cluster of the most frequent term: {'-daimler-puch', \"'87/88\", '.000', \"'at\", '-base', '-6.3', \"'d\", '-radiat', \"'87\", '+2.4'}\n",
            "Intersection between Word2Vec similar words and cluster words: set()\n",
            "Most frequent term: 'n\n",
            "Similar words from Word2Vec: {'okc', 'stockhold', 'tfb', 'fichtel', 'kotowski', 'declar', 'bcv', 'quarterli', 'jwt', 'semi-annu', 'linn', '.forecast', 'primaga', 'qtli', 'viacom', 'norddeutsch', 'regular', 'holder', 'cjmf-fm', 'hk', 'wrather', 'heng', 'clabir', 'huski', 'harcourt', 'caterpillar', 'bilzerian', 'ech', 'up', 'lace', 'pak', 'transworld', 'perrin', 'qtrli', 'paralax', 'ami', 'intermark', 'rosewood', 'triangl', 'macmillan', 'video', '7,100', 'dlr/shr', 'burpe', 'int', 'payout', 'omit', 'ava', 'fisher', 'hgic'}\n",
            "Words in the cluster of the most frequent term: {\"'n\", \"'the\", \"'ll\", \"'old\", \"'give\", \"'protection\", \"'87\", \"'liber\", \"'event\", '+bahia'}\n",
            "Intersection between Word2Vec similar words and cluster words: set()\n",
            "Most frequent term: '87/88\n",
            "Similar words from Word2Vec: {'memphi', 'sandbank', 'amp', '795,522', 'unaffili', 'satellit', '17.71', 'winston', 'bork', 'pep', 'shaalan', 'rental', 'cr', 'multius', 'theater', 'cellular', 'interwest', 'skate', 'franz', '4.500', 'adhes', 'fungal', 'octano', 'blue', 'juan', 'schn.pa', 'trecker', 'reloc', '1,284.50', 'president-elect', 'detroit', 'equi', 'planter', 'franchis', 'electro', 'owens-corn', 'cpl', 'hydro', 'overlook', 'infortext', 'jenrett', 'd-mont', 'trademark', 'hot-rol', 'pendleton', '1912', '18.51', 'to-fit', 'ariz.', 'curti'}\n",
            "Words in the cluster of the most frequent term: {'-daimler-puch', \"'87/88\", '.000', \"'at\", '-base', '-6.3', \"'d\", '-radiat', \"'87\", '+2.4'}\n",
            "Intersection between Word2Vec similar words and cluster words: set()\n",
            "Most frequent term: '87/88\n",
            "Similar words from Word2Vec: {'memphi', 'sandbank', 'amp', '795,522', 'unaffili', 'satellit', '17.71', 'winston', 'bork', 'pep', 'shaalan', 'rental', 'cr', 'multius', 'theater', 'cellular', 'interwest', 'skate', 'franz', '4.500', 'adhes', 'fungal', 'octano', 'blue', 'juan', 'schn.pa', 'trecker', 'reloc', '1,284.50', 'president-elect', 'detroit', 'equi', 'planter', 'franchis', 'electro', 'owens-corn', 'cpl', 'hydro', 'overlook', 'infortext', 'jenrett', 'd-mont', 'trademark', 'hot-rol', 'pendleton', '1912', '18.51', 'to-fit', 'ariz.', 'curti'}\n",
            "Words in the cluster of the most frequent term: {'-daimler-puch', \"'87/88\", '.000', \"'at\", '-base', '-6.3', \"'d\", '-radiat', \"'87\", '+2.4'}\n",
            "Intersection between Word2Vec similar words and cluster words: set()\n",
            "Most frequent term: '87/88\n",
            "Similar words from Word2Vec: {'memphi', 'sandbank', 'amp', '795,522', 'unaffili', 'satellit', '17.71', 'winston', 'bork', 'pep', 'shaalan', 'rental', 'cr', 'multius', 'theater', 'cellular', 'interwest', 'skate', 'franz', '4.500', 'adhes', 'fungal', 'octano', 'blue', 'juan', 'schn.pa', 'trecker', 'reloc', '1,284.50', 'president-elect', 'detroit', 'equi', 'planter', 'franchis', 'electro', 'owens-corn', 'cpl', 'hydro', 'overlook', 'infortext', 'jenrett', 'd-mont', 'trademark', 'hot-rol', 'pendleton', '1912', '18.51', 'to-fit', 'ariz.', 'curti'}\n",
            "Words in the cluster of the most frequent term: {'-daimler-puch', \"'87/88\", '.000', \"'at\", '-base', '-6.3', \"'d\", '-radiat', \"'87\", '+2.4'}\n",
            "Intersection between Word2Vec similar words and cluster words: set()\n",
            "Most frequent term: '87\n",
            "Similar words from Word2Vec: {'ari', 'suzann', 'loss-mak', 'reddaway', 'dept', '862,500', '34.125', 'indentifi', 'wound', '72,203', 'rhetor', '148.50', 'gottesman', 'thompson', 'frankfurt', 'uiie', 'short-rang', 'oppon', 'h.c.', '5,940,000', '3.15', 'toe', 'frustrat', '517', 'rri', 'masaji', '52,409', '631.6', 'survivor', 'nahum', '738', '10.26', 'avp', 'chri', 'excelso', '97-13/32', '..........................................', 'counselor', '59,430', 'beginn', 'c.f', 'anwar', 'ortner', 'egyptian', '24.98', '18,467', 'three-judg', 'g-6', 'mo.', '2,336,000'}\n",
            "Words in the cluster of the most frequent term: {'-0.6', \"'at\", \"'bankrupt\", \"'give\", '+12.8', \"'87\", \"'growth\", \"'re\", \"'event\", '+2.8'}\n",
            "Intersection between Word2Vec similar words and cluster words: set()\n",
            "Most frequent term: 'at\n",
            "Similar words from Word2Vec: {\"friday'\", '320,057', 'calmar', 'subject', 'usm', '8,866', 'offer', 'spillman', 'addit', '3,166,000', 'usair', 'pl-480', '19,488,587', 'neglig', '172.8', '319,588', 'takeov', '9,163,141', '0.55', 'authroiz', 'bid', '1,788,406', 'suc', 'prepay', 'ri', 'bwa', 'peugeot', 'previous', 'messidor', 'issuabl', 'alternaitcv', 'all-cash', '14.25', 'pathogen', 'unitel', 'solicit', 'twa', 'gencorp', 'crr', 'alf', 'gesamtmetal', 'receiv', '630', 'kiatpaiboon', 'forthcom', 'partially-ori', 'right', 'c.o.m.b.', 'consumm', 'entangl'}\n",
            "Words in the cluster of the most frequent term: {'-0.6', \"'at\", \"'bankrupt\", \"'give\", '+12.8', \"'87\", \"'growth\", \"'re\", \"'event\", '+2.8'}\n",
            "Intersection between Word2Vec similar words and cluster words: set()\n",
            "Most frequent term: '87\n",
            "Similar words from Word2Vec: {'ari', 'suzann', 'loss-mak', 'reddaway', 'dept', '862,500', '34.125', 'indentifi', 'wound', '72,203', 'rhetor', '148.50', 'gottesman', 'thompson', 'frankfurt', 'uiie', 'short-rang', 'oppon', 'h.c.', '5,940,000', '3.15', 'toe', 'frustrat', '517', 'rri', 'masaji', '52,409', '631.6', 'survivor', 'nahum', '738', '10.26', 'avp', 'chri', 'excelso', '97-13/32', '..........................................', 'counselor', '59,430', 'beginn', 'c.f', 'anwar', 'ortner', 'egyptian', '24.98', '18,467', 'three-judg', 'g-6', 'mo.', '2,336,000'}\n",
            "Words in the cluster of the most frequent term: {'-0.6', \"'at\", \"'bankrupt\", \"'give\", '+12.8', \"'87\", \"'growth\", \"'re\", \"'event\", '+2.8'}\n",
            "Intersection between Word2Vec similar words and cluster words: set()\n",
            "Most frequent term: 'n\n",
            "Similar words from Word2Vec: {'okc', 'stockhold', 'tfb', 'fichtel', 'kotowski', 'declar', 'bcv', 'quarterli', 'jwt', 'semi-annu', 'linn', '.forecast', 'primaga', 'qtli', 'viacom', 'norddeutsch', 'regular', 'holder', 'cjmf-fm', 'hk', 'wrather', 'heng', 'clabir', 'huski', 'harcourt', 'caterpillar', 'bilzerian', 'ech', 'up', 'lace', 'pak', 'transworld', 'perrin', 'qtrli', 'paralax', 'ami', 'intermark', 'rosewood', 'triangl', 'macmillan', 'video', '7,100', 'dlr/shr', 'burpe', 'int', 'payout', 'omit', 'ava', 'fisher', 'hgic'}\n",
            "Words in the cluster of the most frequent term: {\"'n\", \"'the\", \"'ll\", \"'old\", \"'give\", \"'protection\", \"'87\", \"'liber\", \"'event\", '+bahia'}\n",
            "Intersection between Word2Vec similar words and cluster words: set()\n",
            "Most frequent term: '87/88\n",
            "Similar words from Word2Vec: {'memphi', 'sandbank', 'amp', '795,522', 'unaffili', 'satellit', '17.71', 'winston', 'bork', 'pep', 'shaalan', 'rental', 'cr', 'multius', 'theater', 'cellular', 'interwest', 'skate', 'franz', '4.500', 'adhes', 'fungal', 'octano', 'blue', 'juan', 'schn.pa', 'trecker', 'reloc', '1,284.50', 'president-elect', 'detroit', 'equi', 'planter', 'franchis', 'electro', 'owens-corn', 'cpl', 'hydro', 'overlook', 'infortext', 'jenrett', 'd-mont', 'trademark', 'hot-rol', 'pendleton', '1912', '18.51', 'to-fit', 'ariz.', 'curti'}\n",
            "Words in the cluster of the most frequent term: {'-daimler-puch', \"'87/88\", '.000', \"'at\", '-base', '-6.3', \"'d\", '-radiat', \"'87\", '+2.4'}\n",
            "Intersection between Word2Vec similar words and cluster words: set()\n",
            "Most frequent term: '87/88\n",
            "Similar words from Word2Vec: {'memphi', 'sandbank', 'amp', '795,522', 'unaffili', 'satellit', '17.71', 'winston', 'bork', 'pep', 'shaalan', 'rental', 'cr', 'multius', 'theater', 'cellular', 'interwest', 'skate', 'franz', '4.500', 'adhes', 'fungal', 'octano', 'blue', 'juan', 'schn.pa', 'trecker', 'reloc', '1,284.50', 'president-elect', 'detroit', 'equi', 'planter', 'franchis', 'electro', 'owens-corn', 'cpl', 'hydro', 'overlook', 'infortext', 'jenrett', 'd-mont', 'trademark', 'hot-rol', 'pendleton', '1912', '18.51', 'to-fit', 'ariz.', 'curti'}\n",
            "Words in the cluster of the most frequent term: {'-daimler-puch', \"'87/88\", '.000', \"'at\", '-base', '-6.3', \"'d\", '-radiat', \"'87\", '+2.4'}\n",
            "Intersection between Word2Vec similar words and cluster words: set()\n",
            "Most frequent term: 'll\n",
            "Similar words from Word2Vec: {'proper', 'iida', 'lot', 'immin', 'extrem', 'obvious', 'noth', 'otherwis', 'sort', 'feel', 'wo', 'protection', 'absolut', 'thing', \"'m\", 'away', 'ca', \"'ve\", \"'re\", 'done', 'someth', 'seem', 'clearli', 'look', 'alarm', 'wish', 'optimist', 'certainli', 'shall', \"n't\", 'convinc', 'peopl', 'wors', 'alway', 'chanc', 'happen', 'know', 'realli', 'simpli', '...', 'quit', 'anyth', 'think', 'pretti', 'cours', 'other', 'sure', 'situat', 'seriou', 'cautiou'}\n",
            "Words in the cluster of the most frequent term: {\"'n\", \"'the\", \"'ll\", \"'old\", \"'give\", \"'protection\", \"'87\", \"'liber\", \"'event\", '+bahia'}\n",
            "Intersection between Word2Vec similar words and cluster words: set()\n",
            "Most frequent term: '87\n",
            "Similar words from Word2Vec: {'ari', 'suzann', 'loss-mak', 'reddaway', 'dept', '862,500', '34.125', 'indentifi', 'wound', '72,203', 'rhetor', '148.50', 'gottesman', 'thompson', 'frankfurt', 'uiie', 'short-rang', 'oppon', 'h.c.', '5,940,000', '3.15', 'toe', 'frustrat', '517', 'rri', 'masaji', '52,409', '631.6', 'survivor', 'nahum', '738', '10.26', 'avp', 'chri', 'excelso', '97-13/32', '..........................................', 'counselor', '59,430', 'beginn', 'c.f', 'anwar', 'ortner', 'egyptian', '24.98', '18,467', 'three-judg', 'g-6', 'mo.', '2,336,000'}\n",
            "Words in the cluster of the most frequent term: {'-0.6', \"'at\", \"'bankrupt\", \"'give\", '+12.8', \"'87\", \"'growth\", \"'re\", \"'event\", '+2.8'}\n",
            "Intersection between Word2Vec similar words and cluster words: set()\n",
            "Most frequent term: 'growth\n",
            "Similar words from Word2Vec: {'legendari', 'imposs', 'disaster', 'sprint', 'uptrend', 'element', 'foresaw', 'kramer', 'aranibar', '2-3/8', 'floraki', 'minut', 'basic', 'zaki', 'state-by-st', 'wisenbak', 'wait', 'ssc', 'inf', 'macomson', 'indefinit', 'outcom', 'meantim', 'mid-1988', 'echo', 'hoc', 'seam', 'mayb', 'chp', 'depriv', 'joao', 'schoenheim', 'in-wel', 'rebuff', 'disastr', '82-88', 'accompani', 'koji', 'istanbul', 'rale', 'rankin', 'sit', 'seidman', 'co-chairman', 'glesk', 'mediocr', '14,289', 'summit', 'hargreav', 'refinanc'}\n",
            "Words in the cluster of the most frequent term: {'-0.6', \"'at\", \"'bankrupt\", \"'give\", '+12.8', \"'87\", \"'growth\", \"'re\", \"'event\", '+2.8'}\n",
            "Intersection between Word2Vec similar words and cluster words: set()\n",
            "Most frequent term: 'the\n",
            "Similar words from Word2Vec: {'map', 'pertamina', 'dissappoint', 'ibm', 'point/oil', 'bolivian', 'sigma', 'knobb', 'rebel', 'gothenburg', 'apea', 'refug', \"state'\", 'singapore/mizushima', 'mingl', 'cpi', 'oar', 'foreseen', 'silo', 'tokheim', '530,587', 'roger', 'joint-ventur', 'well-tim', 'non-electr', 'edd', 'oruro', 'elmo', 'gnva', 'communiqu', 'just-releas', 'diamond-dril', 'florestai', 'uni.a', 'aero', 'jumardi', 'reafffirm', 'chee', '226,560', \"sarney'\", 'schulmann', 'prosz', '1,328,634', '6,635,318', 'inter-facil', 'fled', 'koblenz', 'qrah', 'allig', 'appl'}\n",
            "Words in the cluster of the most frequent term: {\"'n\", \"'the\", \"'ll\", \"'old\", \"'give\", \"'protection\", \"'87\", \"'liber\", \"'event\", '+bahia'}\n",
            "Intersection between Word2Vec similar words and cluster words: set()\n",
            "Most frequent term: 'at\n",
            "Similar words from Word2Vec: {\"friday'\", '320,057', 'calmar', 'subject', 'usm', '8,866', 'offer', 'spillman', 'addit', '3,166,000', 'usair', 'pl-480', '19,488,587', 'neglig', '172.8', '319,588', 'takeov', '9,163,141', '0.55', 'authroiz', 'bid', '1,788,406', 'suc', 'prepay', 'ri', 'bwa', 'peugeot', 'previous', 'messidor', 'issuabl', 'alternaitcv', 'all-cash', '14.25', 'pathogen', 'unitel', 'solicit', 'twa', 'gencorp', 'crr', 'alf', 'gesamtmetal', 'receiv', '630', 'kiatpaiboon', 'forthcom', 'partially-ori', 'right', 'c.o.m.b.', 'consumm', 'entangl'}\n",
            "Words in the cluster of the most frequent term: {'-0.6', \"'at\", \"'bankrupt\", \"'give\", '+12.8', \"'87\", \"'growth\", \"'re\", \"'event\", '+2.8'}\n",
            "Intersection between Word2Vec similar words and cluster words: set()\n",
            "Most frequent term: '87/88\n",
            "Similar words from Word2Vec: {'memphi', 'sandbank', 'amp', '795,522', 'unaffili', 'satellit', '17.71', 'winston', 'bork', 'pep', 'shaalan', 'rental', 'cr', 'multius', 'theater', 'cellular', 'interwest', 'skate', 'franz', '4.500', 'adhes', 'fungal', 'octano', 'blue', 'juan', 'schn.pa', 'trecker', 'reloc', '1,284.50', 'president-elect', 'detroit', 'equi', 'planter', 'franchis', 'electro', 'owens-corn', 'cpl', 'hydro', 'overlook', 'infortext', 'jenrett', 'd-mont', 'trademark', 'hot-rol', 'pendleton', '1912', '18.51', 'to-fit', 'ariz.', 'curti'}\n",
            "Words in the cluster of the most frequent term: {'-daimler-puch', \"'87/88\", '.000', \"'at\", '-base', '-6.3', \"'d\", '-radiat', \"'87\", '+2.4'}\n",
            "Intersection between Word2Vec similar words and cluster words: set()\n",
            "Most frequent term: '87/88\n",
            "Similar words from Word2Vec: {'memphi', 'sandbank', 'amp', '795,522', 'unaffili', 'satellit', '17.71', 'winston', 'bork', 'pep', 'shaalan', 'rental', 'cr', 'multius', 'theater', 'cellular', 'interwest', 'skate', 'franz', '4.500', 'adhes', 'fungal', 'octano', 'blue', 'juan', 'schn.pa', 'trecker', 'reloc', '1,284.50', 'president-elect', 'detroit', 'equi', 'planter', 'franchis', 'electro', 'owens-corn', 'cpl', 'hydro', 'overlook', 'infortext', 'jenrett', 'd-mont', 'trademark', 'hot-rol', 'pendleton', '1912', '18.51', 'to-fit', 'ariz.', 'curti'}\n",
            "Words in the cluster of the most frequent term: {'-daimler-puch', \"'87/88\", '.000', \"'at\", '-base', '-6.3', \"'d\", '-radiat', \"'87\", '+2.4'}\n",
            "Intersection between Word2Vec similar words and cluster words: set()\n",
            "Most frequent term: '87/88\n",
            "Similar words from Word2Vec: {'memphi', 'sandbank', 'amp', '795,522', 'unaffili', 'satellit', '17.71', 'winston', 'bork', 'pep', 'shaalan', 'rental', 'cr', 'multius', 'theater', 'cellular', 'interwest', 'skate', 'franz', '4.500', 'adhes', 'fungal', 'octano', 'blue', 'juan', 'schn.pa', 'trecker', 'reloc', '1,284.50', 'president-elect', 'detroit', 'equi', 'planter', 'franchis', 'electro', 'owens-corn', 'cpl', 'hydro', 'overlook', 'infortext', 'jenrett', 'd-mont', 'trademark', 'hot-rol', 'pendleton', '1912', '18.51', 'to-fit', 'ariz.', 'curti'}\n",
            "Words in the cluster of the most frequent term: {'-daimler-puch', \"'87/88\", '.000', \"'at\", '-base', '-6.3', \"'d\", '-radiat', \"'87\", '+2.4'}\n",
            "Intersection between Word2Vec similar words and cluster words: set()\n",
            "Most frequent term: '87/88\n",
            "Similar words from Word2Vec: {'memphi', 'sandbank', 'amp', '795,522', 'unaffili', 'satellit', '17.71', 'winston', 'bork', 'pep', 'shaalan', 'rental', 'cr', 'multius', 'theater', 'cellular', 'interwest', 'skate', 'franz', '4.500', 'adhes', 'fungal', 'octano', 'blue', 'juan', 'schn.pa', 'trecker', 'reloc', '1,284.50', 'president-elect', 'detroit', 'equi', 'planter', 'franchis', 'electro', 'owens-corn', 'cpl', 'hydro', 'overlook', 'infortext', 'jenrett', 'd-mont', 'trademark', 'hot-rol', 'pendleton', '1912', '18.51', 'to-fit', 'ariz.', 'curti'}\n",
            "Words in the cluster of the most frequent term: {'-daimler-puch', \"'87/88\", '.000', \"'at\", '-base', '-6.3', \"'d\", '-radiat', \"'87\", '+2.4'}\n",
            "Intersection between Word2Vec similar words and cluster words: set()\n",
            "Most frequent term: '87/88\n",
            "Similar words from Word2Vec: {'memphi', 'sandbank', 'amp', '795,522', 'unaffili', 'satellit', '17.71', 'winston', 'bork', 'pep', 'shaalan', 'rental', 'cr', 'multius', 'theater', 'cellular', 'interwest', 'skate', 'franz', '4.500', 'adhes', 'fungal', 'octano', 'blue', 'juan', 'schn.pa', 'trecker', 'reloc', '1,284.50', 'president-elect', 'detroit', 'equi', 'planter', 'franchis', 'electro', 'owens-corn', 'cpl', 'hydro', 'overlook', 'infortext', 'jenrett', 'd-mont', 'trademark', 'hot-rol', 'pendleton', '1912', '18.51', 'to-fit', 'ariz.', 'curti'}\n",
            "Words in the cluster of the most frequent term: {'-daimler-puch', \"'87/88\", '.000', \"'at\", '-base', '-6.3', \"'d\", '-radiat', \"'87\", '+2.4'}\n",
            "Intersection between Word2Vec similar words and cluster words: set()\n",
            "Most frequent term: 'm\n",
            "Similar words from Word2Vec: {'road', 'sens', 'iida', 'immin', 'danger', \"'ll\", 'repli', 'sprint', 'noth', 'otherwis', 'sort', 'obvious', 'wo', 'solut', 'sceptic', 'confront', 'sound', 'word', 'mikhail', 'front', 'approach', 'let', 'thing', 'ca', 'numer', 'tell', 'true', \"'ve\", 'els', 'ye', 'deep', 'alarm', 'someth', 'wish', 'everyon', 'convinc', 'drastic', 'wors', 'everyth', 'address', 'understand', 'felt', 'anyth', 'ldp', 'pretti', 'surround', 'sure', 'quick', 'listen', 'nervou'}\n",
            "Words in the cluster of the most frequent term: {'-0.90', '+13.7', \"'d\", \"'bankrupt\", \"'m\", ',100', '+12.5', \"'ve\", \"'87\", '-7.1'}\n",
            "Intersection between Word2Vec similar words and cluster words: {\"'ve\"}\n",
            "Most frequent term: '87\n",
            "Similar words from Word2Vec: {'ari', 'suzann', 'loss-mak', 'reddaway', 'dept', '862,500', '34.125', 'indentifi', 'wound', '72,203', 'rhetor', '148.50', 'gottesman', 'thompson', 'frankfurt', 'uiie', 'short-rang', 'oppon', 'h.c.', '5,940,000', '3.15', 'toe', 'frustrat', '517', 'rri', 'masaji', '52,409', '631.6', 'survivor', 'nahum', '738', '10.26', 'avp', 'chri', 'excelso', '97-13/32', '..........................................', 'counselor', '59,430', 'beginn', 'c.f', 'anwar', 'ortner', 'egyptian', '24.98', '18,467', 'three-judg', 'g-6', 'mo.', '2,336,000'}\n",
            "Words in the cluster of the most frequent term: {'-0.6', \"'at\", \"'bankrupt\", \"'give\", '+12.8', \"'87\", \"'growth\", \"'re\", \"'event\", '+2.8'}\n",
            "Intersection between Word2Vec similar words and cluster words: set()\n",
            "Most frequent term: -0.6\n",
            "Similar words from Word2Vec: {'calmon', 'rinn', 'wwkz-fm', 'southfield', '17,000', 'versu', '45.93', '27.41', '246,000', '700,000', '218,000', 'ingot', 'jude', 'moussa', '130,000', 'aboard', '88-3/8', 'denatur', '2.85', 'cwt', '2,883,000', 'yochum', '8,664,000', '1,870,000', '119.05', 'sept/dec', 'presplit', '392,600', '40.2', '173,060', '16.31', 'bu', '17.25', '2.19', '514,000', '35.2', '18,345', '19.16', '2.17', 'londrina', '.062', '308,000', 'restitut', '270', 'nichemen', '20,349', '230,000', 'mcf', 'vahit', '1.50'}\n",
            "Words in the cluster of the most frequent term: {'-0.6', \"'at\", \"'bankrupt\", \"'give\", '+12.8', \"'87\", \"'growth\", \"'re\", \"'event\", '+2.8'}\n",
            "Intersection between Word2Vec similar words and cluster words: set()\n",
            "Most frequent term: '87\n",
            "Similar words from Word2Vec: {'ari', 'suzann', 'loss-mak', 'reddaway', 'dept', '862,500', '34.125', 'indentifi', 'wound', '72,203', 'rhetor', '148.50', 'gottesman', 'thompson', 'frankfurt', 'uiie', 'short-rang', 'oppon', 'h.c.', '5,940,000', '3.15', 'toe', 'frustrat', '517', 'rri', 'masaji', '52,409', '631.6', 'survivor', 'nahum', '738', '10.26', 'avp', 'chri', 'excelso', '97-13/32', '..........................................', 'counselor', '59,430', 'beginn', 'c.f', 'anwar', 'ortner', 'egyptian', '24.98', '18,467', 'three-judg', 'g-6', 'mo.', '2,336,000'}\n",
            "Words in the cluster of the most frequent term: {'-0.6', \"'at\", \"'bankrupt\", \"'give\", '+12.8', \"'87\", \"'growth\", \"'re\", \"'event\", '+2.8'}\n",
            "Intersection between Word2Vec similar words and cluster words: set()\n",
            "Most frequent term: '87/88\n",
            "Similar words from Word2Vec: {'memphi', 'sandbank', 'amp', '795,522', 'unaffili', 'satellit', '17.71', 'winston', 'bork', 'pep', 'shaalan', 'rental', 'cr', 'multius', 'theater', 'cellular', 'interwest', 'skate', 'franz', '4.500', 'adhes', 'fungal', 'octano', 'blue', 'juan', 'schn.pa', 'trecker', 'reloc', '1,284.50', 'president-elect', 'detroit', 'equi', 'planter', 'franchis', 'electro', 'owens-corn', 'cpl', 'hydro', 'overlook', 'infortext', 'jenrett', 'd-mont', 'trademark', 'hot-rol', 'pendleton', '1912', '18.51', 'to-fit', 'ariz.', 'curti'}\n",
            "Words in the cluster of the most frequent term: {'-daimler-puch', \"'87/88\", '.000', \"'at\", '-base', '-6.3', \"'d\", '-radiat', \"'87\", '+2.4'}\n",
            "Intersection between Word2Vec similar words and cluster words: set()\n",
            "Most frequent term: '87/88\n",
            "Similar words from Word2Vec: {'memphi', 'sandbank', 'amp', '795,522', 'unaffili', 'satellit', '17.71', 'winston', 'bork', 'pep', 'shaalan', 'rental', 'cr', 'multius', 'theater', 'cellular', 'interwest', 'skate', 'franz', '4.500', 'adhes', 'fungal', 'octano', 'blue', 'juan', 'schn.pa', 'trecker', 'reloc', '1,284.50', 'president-elect', 'detroit', 'equi', 'planter', 'franchis', 'electro', 'owens-corn', 'cpl', 'hydro', 'overlook', 'infortext', 'jenrett', 'd-mont', 'trademark', 'hot-rol', 'pendleton', '1912', '18.51', 'to-fit', 'ariz.', 'curti'}\n",
            "Words in the cluster of the most frequent term: {'-daimler-puch', \"'87/88\", '.000', \"'at\", '-base', '-6.3', \"'d\", '-radiat', \"'87\", '+2.4'}\n",
            "Intersection between Word2Vec similar words and cluster words: set()\n",
            "Most frequent term: '87/88\n",
            "Similar words from Word2Vec: {'memphi', 'sandbank', 'amp', '795,522', 'unaffili', 'satellit', '17.71', 'winston', 'bork', 'pep', 'shaalan', 'rental', 'cr', 'multius', 'theater', 'cellular', 'interwest', 'skate', 'franz', '4.500', 'adhes', 'fungal', 'octano', 'blue', 'juan', 'schn.pa', 'trecker', 'reloc', '1,284.50', 'president-elect', 'detroit', 'equi', 'planter', 'franchis', 'electro', 'owens-corn', 'cpl', 'hydro', 'overlook', 'infortext', 'jenrett', 'd-mont', 'trademark', 'hot-rol', 'pendleton', '1912', '18.51', 'to-fit', 'ariz.', 'curti'}\n",
            "Words in the cluster of the most frequent term: {'-daimler-puch', \"'87/88\", '.000', \"'at\", '-base', '-6.3', \"'d\", '-radiat', \"'87\", '+2.4'}\n",
            "Intersection between Word2Vec similar words and cluster words: set()\n",
            "Most frequent term: '87\n",
            "Similar words from Word2Vec: {'ari', 'suzann', 'loss-mak', 'reddaway', 'dept', '862,500', '34.125', 'indentifi', 'wound', '72,203', 'rhetor', '148.50', 'gottesman', 'thompson', 'frankfurt', 'uiie', 'short-rang', 'oppon', 'h.c.', '5,940,000', '3.15', 'toe', 'frustrat', '517', 'rri', 'masaji', '52,409', '631.6', 'survivor', 'nahum', '738', '10.26', 'avp', 'chri', 'excelso', '97-13/32', '..........................................', 'counselor', '59,430', 'beginn', 'c.f', 'anwar', 'ortner', 'egyptian', '24.98', '18,467', 'three-judg', 'g-6', 'mo.', '2,336,000'}\n",
            "Words in the cluster of the most frequent term: {'-0.6', \"'at\", \"'bankrupt\", \"'give\", '+12.8', \"'87\", \"'growth\", \"'re\", \"'event\", '+2.8'}\n",
            "Intersection between Word2Vec similar words and cluster words: set()\n",
            "Most frequent term: '87/88\n",
            "Similar words from Word2Vec: {'memphi', 'sandbank', 'amp', '795,522', 'unaffili', 'satellit', '17.71', 'winston', 'bork', 'pep', 'shaalan', 'rental', 'cr', 'multius', 'theater', 'cellular', 'interwest', 'skate', 'franz', '4.500', 'adhes', 'fungal', 'octano', 'blue', 'juan', 'schn.pa', 'trecker', 'reloc', '1,284.50', 'president-elect', 'detroit', 'equi', 'planter', 'franchis', 'electro', 'owens-corn', 'cpl', 'hydro', 'overlook', 'infortext', 'jenrett', 'd-mont', 'trademark', 'hot-rol', 'pendleton', '1912', '18.51', 'to-fit', 'ariz.', 'curti'}\n",
            "Words in the cluster of the most frequent term: {'-daimler-puch', \"'87/88\", '.000', \"'at\", '-base', '-6.3', \"'d\", '-radiat', \"'87\", '+2.4'}\n",
            "Intersection between Word2Vec similar words and cluster words: set()\n",
            "Most frequent term: 'bankrupt\n",
            "Similar words from Word2Vec: {'al.n', 'ru', 'attrib', 'gainer', '823,988', 'rcp', 'shafi', 'steel-structur', 'brandman', 'freeman-ow', '40,500', '863,000.', '290.55p', '3,342,0000', '1986-1990', '17,800', '885.2', '50.31p', 'salg.h', 'siaahan', 'pyro', '61.2', \"bancorp'\", 'cashflow', '109,131', 'joaquin', '298,412', '28,045', 'greek-bas', 'sleev', 'renato', '1,422,000', '6,846,000', 'strasbourg', 'feng', '276.8', 'commmod', 'jeremi', 'heed', '4,837,000', '480p', 'martket', 'tok', 'pao', '3,479,744', '42.2p', 'barlett', 'decln', 'laid-up', 'burnet'}\n",
            "Words in the cluster of the most frequent term: {'-0.6', \"'at\", \"'bankrupt\", \"'give\", '+12.8', \"'87\", \"'growth\", \"'re\", \"'event\", '+2.8'}\n",
            "Intersection between Word2Vec similar words and cluster words: set()\n",
            "Most frequent term: '87/88\n",
            "Similar words from Word2Vec: {'memphi', 'sandbank', 'amp', '795,522', 'unaffili', 'satellit', '17.71', 'winston', 'bork', 'pep', 'shaalan', 'rental', 'cr', 'multius', 'theater', 'cellular', 'interwest', 'skate', 'franz', '4.500', 'adhes', 'fungal', 'octano', 'blue', 'juan', 'schn.pa', 'trecker', 'reloc', '1,284.50', 'president-elect', 'detroit', 'equi', 'planter', 'franchis', 'electro', 'owens-corn', 'cpl', 'hydro', 'overlook', 'infortext', 'jenrett', 'd-mont', 'trademark', 'hot-rol', 'pendleton', '1912', '18.51', 'to-fit', 'ariz.', 'curti'}\n",
            "Words in the cluster of the most frequent term: {'-daimler-puch', \"'87/88\", '.000', \"'at\", '-base', '-6.3', \"'d\", '-radiat', \"'87\", '+2.4'}\n",
            "Intersection between Word2Vec similar words and cluster words: set()\n",
            "Most frequent term: '87/88\n",
            "Similar words from Word2Vec: {'memphi', 'sandbank', 'amp', '795,522', 'unaffili', 'satellit', '17.71', 'winston', 'bork', 'pep', 'shaalan', 'rental', 'cr', 'multius', 'theater', 'cellular', 'interwest', 'skate', 'franz', '4.500', 'adhes', 'fungal', 'octano', 'blue', 'juan', 'schn.pa', 'trecker', 'reloc', '1,284.50', 'president-elect', 'detroit', 'equi', 'planter', 'franchis', 'electro', 'owens-corn', 'cpl', 'hydro', 'overlook', 'infortext', 'jenrett', 'd-mont', 'trademark', 'hot-rol', 'pendleton', '1912', '18.51', 'to-fit', 'ariz.', 'curti'}\n",
            "Words in the cluster of the most frequent term: {'-daimler-puch', \"'87/88\", '.000', \"'at\", '-base', '-6.3', \"'d\", '-radiat', \"'87\", '+2.4'}\n",
            "Intersection between Word2Vec similar words and cluster words: set()\n",
            "Most frequent term: '87/88\n",
            "Similar words from Word2Vec: {'memphi', 'sandbank', 'amp', '795,522', 'unaffili', 'satellit', '17.71', 'winston', 'bork', 'pep', 'shaalan', 'rental', 'cr', 'multius', 'theater', 'cellular', 'interwest', 'skate', 'franz', '4.500', 'adhes', 'fungal', 'octano', 'blue', 'juan', 'schn.pa', 'trecker', 'reloc', '1,284.50', 'president-elect', 'detroit', 'equi', 'planter', 'franchis', 'electro', 'owens-corn', 'cpl', 'hydro', 'overlook', 'infortext', 'jenrett', 'd-mont', 'trademark', 'hot-rol', 'pendleton', '1912', '18.51', 'to-fit', 'ariz.', 'curti'}\n",
            "Words in the cluster of the most frequent term: {'-daimler-puch', \"'87/88\", '.000', \"'at\", '-base', '-6.3', \"'d\", '-radiat', \"'87\", '+2.4'}\n",
            "Intersection between Word2Vec similar words and cluster words: set()\n",
            "Most frequent term: '87\n",
            "Similar words from Word2Vec: {'ari', 'suzann', 'loss-mak', 'reddaway', 'dept', '862,500', '34.125', 'indentifi', 'wound', '72,203', 'rhetor', '148.50', 'gottesman', 'thompson', 'frankfurt', 'uiie', 'short-rang', 'oppon', 'h.c.', '5,940,000', '3.15', 'toe', 'frustrat', '517', 'rri', 'masaji', '52,409', '631.6', 'survivor', 'nahum', '738', '10.26', 'avp', 'chri', 'excelso', '97-13/32', '..........................................', 'counselor', '59,430', 'beginn', 'c.f', 'anwar', 'ortner', 'egyptian', '24.98', '18,467', 'three-judg', 'g-6', 'mo.', '2,336,000'}\n",
            "Words in the cluster of the most frequent term: {'-0.6', \"'at\", \"'bankrupt\", \"'give\", '+12.8', \"'87\", \"'growth\", \"'re\", \"'event\", '+2.8'}\n",
            "Intersection between Word2Vec similar words and cluster words: set()\n",
            "Most frequent term: 'm\n",
            "Similar words from Word2Vec: {'road', 'sens', 'iida', 'immin', 'danger', \"'ll\", 'repli', 'sprint', 'noth', 'otherwis', 'sort', 'obvious', 'wo', 'solut', 'sceptic', 'confront', 'sound', 'word', 'mikhail', 'front', 'approach', 'let', 'thing', 'ca', 'numer', 'tell', 'true', \"'ve\", 'els', 'ye', 'deep', 'alarm', 'someth', 'wish', 'everyon', 'convinc', 'drastic', 'wors', 'everyth', 'address', 'understand', 'felt', 'anyth', 'ldp', 'pretti', 'surround', 'sure', 'quick', 'listen', 'nervou'}\n",
            "Words in the cluster of the most frequent term: {'-0.90', '+13.7', \"'d\", \"'bankrupt\", \"'m\", ',100', '+12.5', \"'ve\", \"'87\", '-7.1'}\n",
            "Intersection between Word2Vec similar words and cluster words: {\"'ve\"}\n",
            "Most frequent term: '87/88\n",
            "Similar words from Word2Vec: {'memphi', 'sandbank', 'amp', '795,522', 'unaffili', 'satellit', '17.71', 'winston', 'bork', 'pep', 'shaalan', 'rental', 'cr', 'multius', 'theater', 'cellular', 'interwest', 'skate', 'franz', '4.500', 'adhes', 'fungal', 'octano', 'blue', 'juan', 'schn.pa', 'trecker', 'reloc', '1,284.50', 'president-elect', 'detroit', 'equi', 'planter', 'franchis', 'electro', 'owens-corn', 'cpl', 'hydro', 'overlook', 'infortext', 'jenrett', 'd-mont', 'trademark', 'hot-rol', 'pendleton', '1912', '18.51', 'to-fit', 'ariz.', 'curti'}\n",
            "Words in the cluster of the most frequent term: {'-daimler-puch', \"'87/88\", '.000', \"'at\", '-base', '-6.3', \"'d\", '-radiat', \"'87\", '+2.4'}\n",
            "Intersection between Word2Vec similar words and cluster words: set()\n",
            "Most frequent term: '87\n",
            "Similar words from Word2Vec: {'ari', 'suzann', 'loss-mak', 'reddaway', 'dept', '862,500', '34.125', 'indentifi', 'wound', '72,203', 'rhetor', '148.50', 'gottesman', 'thompson', 'frankfurt', 'uiie', 'short-rang', 'oppon', 'h.c.', '5,940,000', '3.15', 'toe', 'frustrat', '517', 'rri', 'masaji', '52,409', '631.6', 'survivor', 'nahum', '738', '10.26', 'avp', 'chri', 'excelso', '97-13/32', '..........................................', 'counselor', '59,430', 'beginn', 'c.f', 'anwar', 'ortner', 'egyptian', '24.98', '18,467', 'three-judg', 'g-6', 'mo.', '2,336,000'}\n",
            "Words in the cluster of the most frequent term: {'-0.6', \"'at\", \"'bankrupt\", \"'give\", '+12.8', \"'87\", \"'growth\", \"'re\", \"'event\", '+2.8'}\n",
            "Intersection between Word2Vec similar words and cluster words: set()\n",
            "Most frequent term: '87\n",
            "Similar words from Word2Vec: {'ari', 'suzann', 'loss-mak', 'reddaway', 'dept', '862,500', '34.125', 'indentifi', 'wound', '72,203', 'rhetor', '148.50', 'gottesman', 'thompson', 'frankfurt', 'uiie', 'short-rang', 'oppon', 'h.c.', '5,940,000', '3.15', 'toe', 'frustrat', '517', 'rri', 'masaji', '52,409', '631.6', 'survivor', 'nahum', '738', '10.26', 'avp', 'chri', 'excelso', '97-13/32', '..........................................', 'counselor', '59,430', 'beginn', 'c.f', 'anwar', 'ortner', 'egyptian', '24.98', '18,467', 'three-judg', 'g-6', 'mo.', '2,336,000'}\n",
            "Words in the cluster of the most frequent term: {'-0.6', \"'at\", \"'bankrupt\", \"'give\", '+12.8', \"'87\", \"'growth\", \"'re\", \"'event\", '+2.8'}\n",
            "Intersection between Word2Vec similar words and cluster words: set()\n",
            "Most frequent term: +5.6\n",
            "Similar words from Word2Vec: {'35,145,000', '2,894,000', '71.7', 'fossil-fir', 'halefolu', '86.6', 'xiamen', 'goodman', 'non-automot', 'shareholdersapprov', 'nomura', 'non-consolid', '106.6', '5.24', 'ware', 'gp', '2,008.', 'panin', '8.51', 'berckman', 'soybean-pl', 'denim-ori', 'multibank', '4.78', '1,397.0', 'leonard', 'sabin', '641', 'catherin', 'bailli', 'uclaf', '1,103,000', 'wallingford', '8,037,000', 'bulli', '705.3', 'chacin', 'agricol', 'hkld.hkg', 'chke', 'bacp', '35.83', '6.88', '25.6', '449.6', 'vlo', 'cch', '79.5', '14,384', '1984-1985'}\n",
            "Words in the cluster of the most frequent term: {'..', '-daimler-puch', \"'87/88\", '-franc', '-micropro', '+5.6', '-ivori', '.029', '+12.5', '+10.1'}\n",
            "Intersection between Word2Vec similar words and cluster words: set()\n",
            "Most frequent term: '87/88\n",
            "Similar words from Word2Vec: {'memphi', 'sandbank', 'amp', '795,522', 'unaffili', 'satellit', '17.71', 'winston', 'bork', 'pep', 'shaalan', 'rental', 'cr', 'multius', 'theater', 'cellular', 'interwest', 'skate', 'franz', '4.500', 'adhes', 'fungal', 'octano', 'blue', 'juan', 'schn.pa', 'trecker', 'reloc', '1,284.50', 'president-elect', 'detroit', 'equi', 'planter', 'franchis', 'electro', 'owens-corn', 'cpl', 'hydro', 'overlook', 'infortext', 'jenrett', 'd-mont', 'trademark', 'hot-rol', 'pendleton', '1912', '18.51', 'to-fit', 'ariz.', 'curti'}\n",
            "Words in the cluster of the most frequent term: {'-daimler-puch', \"'87/88\", '.000', \"'at\", '-base', '-6.3', \"'d\", '-radiat', \"'87\", '+2.4'}\n",
            "Intersection between Word2Vec similar words and cluster words: set()\n",
            "Most frequent term: '87/88\n",
            "Similar words from Word2Vec: {'memphi', 'sandbank', 'amp', '795,522', 'unaffili', 'satellit', '17.71', 'winston', 'bork', 'pep', 'shaalan', 'rental', 'cr', 'multius', 'theater', 'cellular', 'interwest', 'skate', 'franz', '4.500', 'adhes', 'fungal', 'octano', 'blue', 'juan', 'schn.pa', 'trecker', 'reloc', '1,284.50', 'president-elect', 'detroit', 'equi', 'planter', 'franchis', 'electro', 'owens-corn', 'cpl', 'hydro', 'overlook', 'infortext', 'jenrett', 'd-mont', 'trademark', 'hot-rol', 'pendleton', '1912', '18.51', 'to-fit', 'ariz.', 'curti'}\n",
            "Words in the cluster of the most frequent term: {'-daimler-puch', \"'87/88\", '.000', \"'at\", '-base', '-6.3', \"'d\", '-radiat', \"'87\", '+2.4'}\n",
            "Intersection between Word2Vec similar words and cluster words: set()\n",
            "Most frequent term: 'give\n",
            "Similar words from Word2Vec: {'rene', 'trinidad-tobago', 'iraqi', 'state-run', 'tagamet', 'dhabi', 'asean', 'hunger', '2,234,049', '14-year-old', 'fernando', 'forsakr', 'wisenbak', 'slm', 'strand', '683,400', 'congest', 'hawaiian', 'hernandez', 'kuroda', 'dst', 'in-wel', 'frazier', 'two-day', 'jorg', '82-88', 'iri', 'alvit', 'nise', 'aerosol', 'turkish', 'dissatisfi', 'gilberto', 'sack', 'capsiz', 'elev', 'ahm', 'semi-govern', 'notifi', '18,367', 'elb', 'weston', 'funer', '27,900', 'valeri', 'king', 'long-stand', 'jerom', 'feeder', 'aqazadeh'}\n",
            "Words in the cluster of the most frequent term: {'-0.6', \"'at\", \"'bankrupt\", \"'give\", '+12.8', \"'87\", \"'growth\", \"'re\", \"'event\", '+2.8'}\n",
            "Intersection between Word2Vec similar words and cluster words: set()\n",
            "Most frequent term: '87/88\n",
            "Similar words from Word2Vec: {'memphi', 'sandbank', 'amp', '795,522', 'unaffili', 'satellit', '17.71', 'winston', 'bork', 'pep', 'shaalan', 'rental', 'cr', 'multius', 'theater', 'cellular', 'interwest', 'skate', 'franz', '4.500', 'adhes', 'fungal', 'octano', 'blue', 'juan', 'schn.pa', 'trecker', 'reloc', '1,284.50', 'president-elect', 'detroit', 'equi', 'planter', 'franchis', 'electro', 'owens-corn', 'cpl', 'hydro', 'overlook', 'infortext', 'jenrett', 'd-mont', 'trademark', 'hot-rol', 'pendleton', '1912', '18.51', 'to-fit', 'ariz.', 'curti'}\n",
            "Words in the cluster of the most frequent term: {'-daimler-puch', \"'87/88\", '.000', \"'at\", '-base', '-6.3', \"'d\", '-radiat', \"'87\", '+2.4'}\n",
            "Intersection between Word2Vec similar words and cluster words: set()\n",
            "Most frequent term: '87/88\n",
            "Similar words from Word2Vec: {'memphi', 'sandbank', 'amp', '795,522', 'unaffili', 'satellit', '17.71', 'winston', 'bork', 'pep', 'shaalan', 'rental', 'cr', 'multius', 'theater', 'cellular', 'interwest', 'skate', 'franz', '4.500', 'adhes', 'fungal', 'octano', 'blue', 'juan', 'schn.pa', 'trecker', 'reloc', '1,284.50', 'president-elect', 'detroit', 'equi', 'planter', 'franchis', 'electro', 'owens-corn', 'cpl', 'hydro', 'overlook', 'infortext', 'jenrett', 'd-mont', 'trademark', 'hot-rol', 'pendleton', '1912', '18.51', 'to-fit', 'ariz.', 'curti'}\n",
            "Words in the cluster of the most frequent term: {'-daimler-puch', \"'87/88\", '.000', \"'at\", '-base', '-6.3', \"'d\", '-radiat', \"'87\", '+2.4'}\n",
            "Intersection between Word2Vec similar words and cluster words: set()\n",
            "Most frequent term: 'at\n",
            "Similar words from Word2Vec: {\"friday'\", '320,057', 'calmar', 'subject', 'usm', '8,866', 'offer', 'spillman', 'addit', '3,166,000', 'usair', 'pl-480', '19,488,587', 'neglig', '172.8', '319,588', 'takeov', '9,163,141', '0.55', 'authroiz', 'bid', '1,788,406', 'suc', 'prepay', 'ri', 'bwa', 'peugeot', 'previous', 'messidor', 'issuabl', 'alternaitcv', 'all-cash', '14.25', 'pathogen', 'unitel', 'solicit', 'twa', 'gencorp', 'crr', 'alf', 'gesamtmetal', 'receiv', '630', 'kiatpaiboon', 'forthcom', 'partially-ori', 'right', 'c.o.m.b.', 'consumm', 'entangl'}\n",
            "Words in the cluster of the most frequent term: {'-0.6', \"'at\", \"'bankrupt\", \"'give\", '+12.8', \"'87\", \"'growth\", \"'re\", \"'event\", '+2.8'}\n",
            "Intersection between Word2Vec similar words and cluster words: set()\n",
            "Most frequent term: '87/88\n",
            "Similar words from Word2Vec: {'memphi', 'sandbank', 'amp', '795,522', 'unaffili', 'satellit', '17.71', 'winston', 'bork', 'pep', 'shaalan', 'rental', 'cr', 'multius', 'theater', 'cellular', 'interwest', 'skate', 'franz', '4.500', 'adhes', 'fungal', 'octano', 'blue', 'juan', 'schn.pa', 'trecker', 'reloc', '1,284.50', 'president-elect', 'detroit', 'equi', 'planter', 'franchis', 'electro', 'owens-corn', 'cpl', 'hydro', 'overlook', 'infortext', 'jenrett', 'd-mont', 'trademark', 'hot-rol', 'pendleton', '1912', '18.51', 'to-fit', 'ariz.', 'curti'}\n",
            "Words in the cluster of the most frequent term: {'-daimler-puch', \"'87/88\", '.000', \"'at\", '-base', '-6.3', \"'d\", '-radiat', \"'87\", '+2.4'}\n",
            "Intersection between Word2Vec similar words and cluster words: set()\n",
            "Most frequent term: '87\n",
            "Similar words from Word2Vec: {'ari', 'suzann', 'loss-mak', 'reddaway', 'dept', '862,500', '34.125', 'indentifi', 'wound', '72,203', 'rhetor', '148.50', 'gottesman', 'thompson', 'frankfurt', 'uiie', 'short-rang', 'oppon', 'h.c.', '5,940,000', '3.15', 'toe', 'frustrat', '517', 'rri', 'masaji', '52,409', '631.6', 'survivor', 'nahum', '738', '10.26', 'avp', 'chri', 'excelso', '97-13/32', '..........................................', 'counselor', '59,430', 'beginn', 'c.f', 'anwar', 'ortner', 'egyptian', '24.98', '18,467', 'three-judg', 'g-6', 'mo.', '2,336,000'}\n",
            "Words in the cluster of the most frequent term: {'-0.6', \"'at\", \"'bankrupt\", \"'give\", '+12.8', \"'87\", \"'growth\", \"'re\", \"'event\", '+2.8'}\n",
            "Intersection between Word2Vec similar words and cluster words: set()\n"
          ]
        }
      ]
    }
  ]
}